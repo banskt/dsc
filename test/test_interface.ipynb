{
 "cells": [
  {
   "cell_type": "code",
   "execution_count": null,
   "metadata": {
    "kernel": "SoS"
   },
   "outputs": [],
   "source": [
    "[global]\n",
    "parameter: ncpu = 30\n",
    "parameter: rerun = 0\n",
    "test_path = path('../vignettes')\n",
    "\n",
    "[default_1]\n",
    "input: [x for x in get_output(f'find {test_path:a} -name \"*.dsc\" -type f').strip().split('\\n') if not 'error' in os.path.basename(x)], group_by = 1\n",
    "bash: expand = True, workdir = f'{_input:d}'\n",
    "  dsc {_input} -c {ncpu} --truncate\n",
    "  if [ {rerun} -ne 0 ]; then\n",
    "    dsc {_input} -c {ncpu} --truncate\n",
    "  fi\n",
    "\n",
    "[default_2]\n",
    "R: workdir = '../dscrutils'\n",
    "  devtools::test('tests')"
   ]
  }
 ],
 "metadata": {
  "kernelspec": {
   "display_name": "SoS",
   "language": "sos",
   "name": "sos"
  },
  "language_info": {
   "codemirror_mode": "sos",
   "file_extension": ".sos",
   "mimetype": "text/x-sos",
   "name": "sos",
   "nbconvert_exporter": "sos_notebook.converter.SoS_Exporter",
   "pygments_lexer": "sos"
  },
  "sos": {
   "default_kernel": "SoS",
   "kernels": [],
   "panel": {
    "displayed": true,
    "height": 0,
    "style": "side"
   },
   "version": "0.17.2"
  }
 },
 "nbformat": 4,
 "nbformat_minor": 2
}
