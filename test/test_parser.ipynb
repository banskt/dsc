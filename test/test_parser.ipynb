{
 "cells": [
  {
   "cell_type": "markdown",
   "metadata": {},
   "source": [
    "# Parser tests"
   ]
  },
  {
   "cell_type": "code",
   "execution_count": 1,
   "metadata": {
    "kernel": "SoS"
   },
   "outputs": [],
   "source": [
    "[global]\n",
    "from dsc.dsc_parser import DSC_Script as ds\n",
    "from dsc.utils import FormatError\n",
    "\n",
    "def test_format(obj, *args):\n",
    "    try:\n",
    "        return obj(*args)\n",
    "    except Exception as e:\n",
    "        assert type(e).__name__ == 'FormatError'\n",
    "        print(e)\n",
    "        return None"
   ]
  },
  {
   "cell_type": "markdown",
   "metadata": {},
   "source": [
    "## Basic syntax"
   ]
  },
  {
   "cell_type": "code",
   "execution_count": 2,
   "metadata": {
    "kernel": "SoS"
   },
   "outputs": [
    {
     "name": "stdout",
     "output_type": "stream",
     "text": [
      "Cannot find required section ``DSC``!\n"
     ]
    }
   ],
   "source": [
    "%run\n",
    "[1]\n",
    "# F: missing output\n",
    "text = '''\n",
    "simulate: sim.R\n",
    "    x: 1\n",
    "    y: 2\n",
    "'''\n",
    "test_format(ds, text)"
   ]
  },
  {
   "cell_type": "code",
   "execution_count": 3,
   "metadata": {
    "kernel": "SoS"
   },
   "outputs": [
    {
     "name": "stdout",
     "output_type": "stream",
     "text": [
      "Invalid decoration ``group_1``. Decorations must start with ``@`` symbol.\n"
     ]
    }
   ],
   "source": [
    "%run\n",
    "[2]\n",
    "# F: grouped parameters is not allowed\n",
    "text = '''\n",
    "simulate: sim.R\n",
    "    group_1:\n",
    "        x: 1\n",
    "        y: 2\n",
    "DSC:\n",
    "    run: simulate\n",
    "'''\n",
    "test_format(ds, text)"
   ]
  },
  {
   "cell_type": "code",
   "execution_count": 4,
   "metadata": {
    "kernel": "SoS"
   },
   "outputs": [],
   "source": [
    "%run\n",
    "[3]\n",
    "# P: exec decoration\n",
    "text = '''\n",
    "simulate: sim.R\n",
    "    @simulate:\n",
    "        x: 1\n",
    "        y: 2\n",
    "DSC:\n",
    "    run: simulate\n",
    "'''\n",
    "res = test_format(ds, text)\n",
    "assert list(res.modules['simulate'].dump()['input'].items()) == [('x', [1]), ('y', [2])]"
   ]
  },
  {
   "cell_type": "code",
   "execution_count": 5,
   "metadata": {
    "kernel": "SoS"
   },
   "outputs": [
    {
     "name": "stdout",
     "output_type": "stream",
     "text": [
      "Invalid decoration ``group_1``. Decorations must start with ``@`` symbol.\n"
     ]
    }
   ],
   "source": [
    "%run\n",
    "[4]\n",
    "# F: grouped parameters is not allowed in exec decoration\n",
    "text = '''\n",
    "simulate: sim.R\n",
    "    @simulate:\n",
    "        group_1:\n",
    "            x: 1\n",
    "            y: 2\n",
    "DSC:\n",
    "    run: simulate\n",
    "'''\n",
    "res = test_format(ds, text)"
   ]
  },
  {
   "cell_type": "code",
   "execution_count": 6,
   "metadata": {
    "kernel": "SoS"
   },
   "outputs": [
    {
     "name": "stdout",
     "output_type": "stream",
     "text": [
      "Cannot find module ``simulate`` in @ALIAS specification ``['x_1']``.\n"
     ]
    }
   ],
   "source": [
    "%run\n",
    "[5]\n",
    "# F: alias is not a list\n",
    "text = '''\n",
    "simulate: sim.R\n",
    "    @simulate:\n",
    "        x: 1\n",
    "        y: 2\n",
    "    @ALIAS:\n",
    "        x_1: x\n",
    "DSC:\n",
    "    run: simulate\n",
    "'''\n",
    "res = test_format(ds, text)"
   ]
  },
  {
   "cell_type": "code",
   "execution_count": 1,
   "metadata": {
    "kernel": "SoS"
   },
   "outputs": [],
   "source": [
    "%run\n",
    "[6]\n",
    "# P: alias for specific module, both syntax supported\n",
    "text = '''\n",
    "simulate: sim.R\n",
    "    @simulate:\n",
    "        x: 1\n",
    "        y: 2\n",
    "    @ALIAS: \n",
    "        simulate: x_1 = x\n",
    "DSC:\n",
    "    run: simulate\n",
    "'''\n",
    "res = test_format(ds, text)\n",
    "assert list(res.modules['simulate'].dump()['input'].items()) == [('y', [2]), ('x_1', [1])]\n",
    "\n",
    "text = '''\n",
    "simulate: sim.R\n",
    "    @simulate:\n",
    "        x: 1\n",
    "        y: 2\n",
    "        @ALIAS: x_1 = x\n",
    "DSC:\n",
    "    run: simulate\n",
    "'''\n",
    "res = test_format(ds, text)\n",
    "assert list(res.modules['simulate'].dump()['input'].items()) == [('y', [2]), ('x_1', [1])]\n",
    "\n",
    "text = '''\n",
    "simulate: sim.R\n",
    "    @simulate:\n",
    "        x: 1\n",
    "        y: 2\n",
    "        @ALIAS: \n",
    "            *: x_1 = x\n",
    "DSC:\n",
    "    run: simulate\n",
    "'''\n",
    "res = test_format(ds, text)\n",
    "assert list(res.modules['simulate'].dump()['input'].items()) == [('y', [2]), ('x_1', [1])]"
   ]
  },
  {
   "cell_type": "code",
   "execution_count": 8,
   "metadata": {
    "kernel": "SoS"
   },
   "outputs": [
    {
     "name": "stdout",
     "output_type": "stream",
     "text": [
      "Undefined decoration ``@test``.\n"
     ]
    }
   ],
   "source": [
    "%run\n",
    "[7]\n",
    "# F: invalid decoration / module\n",
    "text = '''\n",
    "simulate: sim.R\n",
    "    @simulate:\n",
    "        x: 1\n",
    "        y: 2\n",
    "    @test:\n",
    "        x: 3\n",
    "DSC:\n",
    "    run: simulate\n",
    "'''\n",
    "res = test_format(ds, text)"
   ]
  },
  {
   "cell_type": "code",
   "execution_count": 9,
   "metadata": {
    "kernel": "SoS"
   },
   "outputs": [
    {
     "name": "stdout",
     "output_type": "stream",
     "text": [
      "Undefined decoration ``@test``.\n"
     ]
    }
   ],
   "source": [
    "%run\n",
    "[8]\n",
    "# F: invalid decoration / module\n",
    "text = '''\n",
    "simulate: sim.R\n",
    "    @simulate, test:\n",
    "        x: 1\n",
    "        y: 2\n",
    "DSC:\n",
    "    run: simulate\n",
    "'''\n",
    "res = test_format(ds, text)"
   ]
  },
  {
   "cell_type": "code",
   "execution_count": 10,
   "metadata": {
    "kernel": "SoS"
   },
   "outputs": [],
   "source": [
    "%run\n",
    "[9]\n",
    "# P: use global variable\n",
    "text = '''\n",
    "simulate: sim.R\n",
    "    x: 1\n",
    "    y: $(x)\n",
    "DSC:\n",
    "    run: simulate\n",
    "    global:\n",
    "        x: 2\n",
    "'''\n",
    "res = test_format(ds, text)\n",
    "list(res.modules['simulate'].dump()['input'].items()) == [('x', [2]), ('y', [2])]\n",
    "text = '''\n",
    "simulate: sim.R\n",
    "    x: 1\n",
    "    y: $(x)[3]\n",
    "DSC:\n",
    "    run: simulate\n",
    "    global:\n",
    "        x: 1,2,3,4\n",
    "'''\n",
    "res = test_format(ds, text)\n",
    "assert list(res.modules['simulate'].dump()['input'].items()) == [('x', [1,2,3,4]), ('y', [3])]"
   ]
  },
  {
   "cell_type": "code",
   "execution_count": 11,
   "metadata": {
    "kernel": "SoS"
   },
   "outputs": [],
   "source": [
    "%run\n",
    "[10]\n",
    "# P: alias partial list / dict\n",
    "text = '''\n",
    "simulate: sim.R\n",
    "  x: 1\n",
    "  y: 2\n",
    "  @ALIAS: args = List(), arg1 = List(xvar = x, yy = y)\n",
    "DSC:\n",
    "    run: simulate\n",
    "'''\n",
    "res = test_format(ds, text)\n",
    "assert list(res.modules['simulate'].plugin.dump()['container_variables']) == ['x', 'y', 'xvar = x', 'yy = y']"
   ]
  },
  {
   "cell_type": "code",
   "execution_count": 12,
   "metadata": {
    "kernel": "SoS"
   },
   "outputs": [],
   "source": [
    "%run\n",
    "[11]\n",
    "# P: filter decorator\n",
    "text = '''\n",
    "simulate: sim.R\n",
    "    x: R(1:5)\n",
    "    @FILTER:\n",
    "        *: x < 3\n",
    "DSC:\n",
    "    run: simulate\n",
    "'''\n",
    "res = test_format(ds, text)"
   ]
  },
  {
   "cell_type": "markdown",
   "metadata": {},
   "source": [
    "## Bad variable / module names"
   ]
  },
  {
   "cell_type": "code",
   "execution_count": 4,
   "metadata": {
    "kernel": "SoS"
   },
   "outputs": [
    {
     "name": "stdout",
     "output_type": "stream",
     "text": [
      "Invalid variable name ``@@simulate``\n",
      "Invalid variable name ``$simulate``\n",
      "Dot is not allowed for module / variable names, in ``.x``. Note that dotted names is not acceptable to Python and SQL. If this limitation is irrelevant to your problem, and you'd rather not rename variable in your code, then please rename ``.x`` to, eg, ``name`` in DSC and use ``@ALIAS: .x = name``.\n",
      "Names cannot start with underscore, in ``_x``. Note that such naming convention is not acceptable to R. If this limitation is irrelevant to your problem, and you'd rather not rename variable in your code, then please rename ``_x`` to, eg, ``name`` in DSC and use ``@ALIAS: _x = name``.\n",
      "Invalid variable name ``x$``\n",
      "Dot is not allowed for module / variable names, in ``x.y``. Note that dotted names is not acceptable to Python and SQL. If this limitation is irrelevant to your problem, and you'd rather not rename variable in your code, then please rename ``x.y`` to, eg, ``name`` in DSC and use ``@ALIAS: x.y = name``.\n",
      "Cannot find required section ``DSC``!\n",
      "Dot is not allowed for module / variable names, in ``x.1``. Note that dotted names is not acceptable to Python and SQL. If this limitation is irrelevant to your problem, and you'd rather not rename variable in your code, then please rename ``x.1`` to, eg, ``name`` in DSC and use ``@ALIAS: x.1 = name``.\n",
      "Invalid variable name ``1``\n",
      "Names cannot start with underscore, in ``_``. Note that such naming convention is not acceptable to R. If this limitation is irrelevant to your problem, and you'd rather not rename variable in your code, then please rename ``_`` to, eg, ``name`` in DSC and use ``@ALIAS: _ = name``.\n",
      "Invalid variable name ``**``\n",
      "Dot is not allowed for module / variable names, in ``.``. Note that dotted names is not acceptable to Python and SQL. If this limitation is irrelevant to your problem, and you'd rather not rename variable in your code, then please rename ``.`` to, eg, ``name`` in DSC and use ``@ALIAS: . = name``.\n"
     ]
    }
   ],
   "source": [
    "%run\n",
    "[12]\n",
    "# F: various bad names\n",
    "text = '''\n",
    "@@simulate: sim.R\n",
    "    x: 1\n",
    "'''\n",
    "res = test_format(ds, text)\n",
    "text = '''\n",
    "$simulate: sim.R\n",
    "    x: 1\n",
    "'''\n",
    "res = test_format(ds, text)\n",
    "text = '''\n",
    "simulate: sim.R\n",
    "    .x: 1\n",
    "'''\n",
    "res = test_format(ds, text)\n",
    "text = '''\n",
    "simulate: sim.R\n",
    "    _x: 1\n",
    "'''\n",
    "res = test_format(ds, text)\n",
    "text = '''\n",
    "simulate: sim.R\n",
    "    x$: 1\n",
    "'''\n",
    "res = test_format(ds, text)\n",
    "text = '''\n",
    "simulate: sim.R\n",
    "    x.y: 1\n",
    "'''\n",
    "res = test_format(ds, text)\n",
    "text = '''\n",
    "simulate: sim.R\n",
    "    x_y: 1\n",
    "'''\n",
    "res = test_format(ds, text)\n",
    "text = '''\n",
    "simulate: sim.R\n",
    "    x.1: 1\n",
    "'''\n",
    "res = test_format(ds, text)\n",
    "text = '''\n",
    "simulate: sim.R\n",
    "    1: 1\n",
    "'''\n",
    "res = test_format(ds, text)\n",
    "text = '''\n",
    "simulate: sim.R\n",
    "    _: 1\n",
    "'''\n",
    "res = test_format(ds, text)\n",
    "text = '''\n",
    "simulate: sim.R\n",
    "    **: 1\n",
    "'''\n",
    "res = test_format(ds, text)\n",
    "text = '''\n",
    "simulate: sim.R\n",
    "    .: 1\n",
    "'''\n",
    "res = test_format(ds, text)"
   ]
  },
  {
   "cell_type": "code",
   "execution_count": null,
   "metadata": {},
   "outputs": [],
   "source": []
  }
 ],
 "metadata": {
  "kernelspec": {
   "display_name": "SoS",
   "language": "sos",
   "name": "sos"
  },
  "language_info": {
   "codemirror_mode": "sos",
   "file_extension": ".sos",
   "mimetype": "text/x-sos",
   "name": "sos",
   "nbconvert_exporter": "sos_notebook.converter.SoS_Exporter",
   "pygments_lexer": "sos"
  },
  "sos": {
   "default_kernel": "SoS",
   "kernels": [
    [
     "SoS",
     "sos",
     "",
     ""
    ],
    [
     "Python3",
     "python3",
     "Python3",
     "#FFE771"
    ],
    [
     "R",
     "ir",
     "R",
     "#DCDCDA"
    ]
   ],
   "panel": {
    "displayed": false,
    "height": 0,
    "style": "side"
   }
  }
 },
 "nbformat": 4,
 "nbformat_minor": 2
}
