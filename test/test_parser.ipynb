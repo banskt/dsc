{
 "cells": [
  {
   "cell_type": "markdown",
   "metadata": {},
   "source": [
    "# Parser tests"
   ]
  },
  {
   "cell_type": "code",
   "execution_count": 1,
   "metadata": {
    "kernel": "SoS"
   },
   "outputs": [],
   "source": [
    "[global]\n",
    "from dsc.dsc_parser import DSC_Script as ds\n",
    "from dsc.utils import FormatError\n",
    "\n",
    "def test_format(obj, *args):\n",
    "    try:\n",
    "        return obj(*args)\n",
    "    except Exception as e:\n",
    "        if type(e).__name__ == 'FormatError':\n",
    "            print(f'* {e}')\n",
    "        else:\n",
    "            raise\n",
    "        return None\n",
    "\n",
    "text0 = '''\n",
    "DSC:\n",
    "    run: simulate\n",
    "'''"
   ]
  },
  {
   "cell_type": "markdown",
   "metadata": {},
   "source": [
    "## Basic syntax"
   ]
  },
  {
   "cell_type": "code",
   "execution_count": 2,
   "metadata": {
    "kernel": "SoS"
   },
   "outputs": [
    {
     "name": "stdout",
     "output_type": "stream",
     "text": [
      "* Block ``simulate`` specifies ``1`` modules, yet ``2`` executables are provided. Please ensure they match.\n"
     ]
    }
   ],
   "source": [
    "%run\n",
    "[1]\n",
    "# F: more exec output\n",
    "text = text0 + '''\n",
    "simulate: sim.R, t.R\n",
    "    x: 1\n",
    "    y: 2\n",
    "    $out: x\n",
    "'''\n",
    "test_format(ds, text)"
   ]
  },
  {
   "cell_type": "code",
   "execution_count": 3,
   "metadata": {
    "kernel": "SoS"
   },
   "outputs": [
    {
     "name": "stdout",
     "output_type": "stream",
     "text": [
      "* Invalid decoration ``group_1``. Decorations must start with ``@`` symbol.\n"
     ]
    }
   ],
   "source": [
    "%run\n",
    "[2]\n",
    "# F: grouped parameters is not allowed\n",
    "text = text0 + '''\n",
    "simulate: sim.R\n",
    "    group_1:\n",
    "        x: 1\n",
    "        y: 2\n",
    "    $out: x\n",
    "'''\n",
    "test_format(ds, text)"
   ]
  },
  {
   "cell_type": "code",
   "execution_count": 4,
   "metadata": {
    "kernel": "SoS"
   },
   "outputs": [],
   "source": [
    "%run\n",
    "[3]\n",
    "# P: exec decoration\n",
    "text = text0 + '''\n",
    "simulate: sim.R\n",
    "    @simulate:\n",
    "        x: 1\n",
    "        y: 2\n",
    "    $out: x\n",
    "'''\n",
    "res = test_format(ds, text)\n",
    "assert list(res.modules['simulate'].dump()['input'].items()) == [('x', [1]), ('y', [2])]"
   ]
  },
  {
   "cell_type": "code",
   "execution_count": 5,
   "metadata": {
    "kernel": "SoS"
   },
   "outputs": [
    {
     "name": "stdout",
     "output_type": "stream",
     "text": [
      "* Invalid decoration ``group_1``. Decorations must start with ``@`` symbol.\n"
     ]
    }
   ],
   "source": [
    "%run\n",
    "[4]\n",
    "# F: grouped parameters is not allowed in exec decoration\n",
    "text = text0 + '''\n",
    "simulate: sim.R\n",
    "    @simulate:\n",
    "        group_1:\n",
    "            x: 1\n",
    "            y: 2\n",
    "    $x: x\n",
    "'''\n",
    "res = test_format(ds, text)"
   ]
  },
  {
   "cell_type": "code",
   "execution_count": 6,
   "metadata": {
    "kernel": "SoS"
   },
   "outputs": [
    {
     "name": "stdout",
     "output_type": "stream",
     "text": [
      "* Cannot find module ``simulate`` in @ALIAS specification ``['x_1']``.\n"
     ]
    }
   ],
   "source": [
    "%run\n",
    "[5]\n",
    "# F: alias is not a list\n",
    "text = text0 + '''\n",
    "simulate: sim.R\n",
    "    @simulate:\n",
    "        x: 1\n",
    "        y: 2\n",
    "    @ALIAS:\n",
    "        x_1: x\n",
    "    $out: x\n",
    "'''\n",
    "res = test_format(ds, text)"
   ]
  },
  {
   "cell_type": "code",
   "execution_count": 7,
   "metadata": {
    "kernel": "SoS"
   },
   "outputs": [],
   "source": [
    "%run\n",
    "[vi_1]\n",
    "# P: alias for specific module, both syntax supported\n",
    "text = text0 + '''\n",
    "simulate: sim.R\n",
    "    @simulate:\n",
    "        x: 1\n",
    "        y: 2\n",
    "    @ALIAS: \n",
    "        simulate: x_1 = x\n",
    "    $out: x\n",
    "'''\n",
    "res = test_format(ds, text)\n",
    "assert list(res.modules['simulate'].dump()['input'].items()) == [('x', [1]), ('y', [2])]\n",
    "assert list(res.modules['simulate'].plugin.alias_map.items()) == [('x', 'x_1')]\n",
    "\n",
    "[vi_2]\n",
    "text = text0 + '''\n",
    "simulate: sim.R\n",
    "    @simulate:\n",
    "        x: 1\n",
    "        y: 2\n",
    "        @ALIAS: x_1 = x\n",
    "    $out: x\n",
    "'''\n",
    "res = test_format(ds, text)\n",
    "assert list(res.modules['simulate'].dump()['input'].items()) == [('x', [1]), ('y', [2])]\n",
    "assert list(res.modules['simulate'].plugin.alias_map.items()) == [('x', 'x_1')]\n",
    "\n",
    "[vi_3]\n",
    "text = text0 + '''\n",
    "simulate: sim.R\n",
    "    @simulate:\n",
    "        x: 1\n",
    "        y: 2\n",
    "        @ALIAS: \n",
    "            *: x_1 = x\n",
    "    $out: x\n",
    "'''\n",
    "res = test_format(ds, text)\n",
    "assert list(res.modules['simulate'].dump()['input'].items()) == [('x', [1]), ('y', [2])]\n",
    "assert list(res.modules['simulate'].plugin.alias_map.items()) == [('x', 'x_1')]"
   ]
  },
  {
   "cell_type": "code",
   "execution_count": 8,
   "metadata": {
    "kernel": "SoS"
   },
   "outputs": [
    {
     "name": "stdout",
     "output_type": "stream",
     "text": [
      "* Undefined decoration ``@test/^test``.\n"
     ]
    }
   ],
   "source": [
    "%run\n",
    "[7]\n",
    "# F: invalid decoration / module\n",
    "text = text0 + '''\n",
    "simulate: sim.R\n",
    "    @simulate:\n",
    "        x: 1\n",
    "        y: 2\n",
    "    @test:\n",
    "        x: 3\n",
    "    $out: x\n",
    "'''\n",
    "res = test_format(ds, text)"
   ]
  },
  {
   "cell_type": "code",
   "execution_count": 9,
   "metadata": {
    "kernel": "SoS"
   },
   "outputs": [
    {
     "name": "stdout",
     "output_type": "stream",
     "text": [
      "* Undefined decoration ``@test/^test``.\n"
     ]
    }
   ],
   "source": [
    "%run\n",
    "[8]\n",
    "# F: invalid decoration / module\n",
    "text = text0 + '''\n",
    "simulate: sim.R\n",
    "    @simulate, test:\n",
    "        x: 1\n",
    "        y: 2\n",
    "    $out: x\n",
    "'''\n",
    "res = test_format(ds, text)"
   ]
  },
  {
   "cell_type": "code",
   "execution_count": 10,
   "metadata": {
    "kernel": "SoS"
   },
   "outputs": [],
   "source": [
    "%run\n",
    "[9]\n",
    "# P: use global variable\n",
    "text = '''\n",
    "simulate: sim.R\n",
    "    x: 1\n",
    "    y: $(x)\n",
    "    $out: x\n",
    "DSC:\n",
    "    run: simulate\n",
    "    global:\n",
    "        x: 2\n",
    "'''\n",
    "res = test_format(ds, text)\n",
    "list(res.modules['simulate'].dump()['input'].items()) == [('x', [2]), ('y', [2])]\n",
    "text = '''\n",
    "simulate: sim.R\n",
    "    x: 1\n",
    "    y: $(x)[3]\n",
    "    $out: x\n",
    "DSC:\n",
    "    run: simulate\n",
    "    global:\n",
    "        x: 1,2,3,4\n",
    "'''\n",
    "res = test_format(ds, text)\n",
    "assert list(res.modules['simulate'].dump()['input'].items()) == [('x', [1,2,3,4]), ('y', [3])]"
   ]
  },
  {
   "cell_type": "code",
   "execution_count": 11,
   "metadata": {
    "kernel": "SoS"
   },
   "outputs": [],
   "source": [
    "%run\n",
    "[10]\n",
    "# P: alias partial list / dict\n",
    "text = text0 + '''\n",
    "simulate: sim.R\n",
    "  x: 1\n",
    "  y: 2\n",
    "  @ALIAS: args = List(), arg1 = List(xvar = x, yy = y)\n",
    "  $out: x\n",
    "'''\n",
    "res = test_format(ds, text)\n",
    "assert list(res.modules['simulate'].plugin.dump()['container_variables'].items()) == [('x', [None, 'xvar']), ('y', [None, 'yy'])]"
   ]
  },
  {
   "cell_type": "code",
   "execution_count": 12,
   "metadata": {
    "kernel": "SoS"
   },
   "outputs": [],
   "source": [
    "%run\n",
    "[11]\n",
    "# P: filter decorator\n",
    "text = text0 + '''\n",
    "simulate: sim.R\n",
    "    x: R{1:5}\n",
    "    @FILTER:\n",
    "        *: x < 3\n",
    "    $out: x\n",
    "'''\n",
    "res = test_format(ds, text)"
   ]
  },
  {
   "cell_type": "markdown",
   "metadata": {},
   "source": [
    "## Bad variable / module names"
   ]
  },
  {
   "cell_type": "code",
   "execution_count": 13,
   "metadata": {
    "kernel": "SoS"
   },
   "outputs": [
    {
     "name": "stdout",
     "output_type": "stream",
     "text": [
      "* Invalid module name ``?@simulate``\n",
      "* Cannot find required section ``DSC``!\n",
      "* Dot is not allowed for module / variable names, in ``.x``. Note that dotted names is not acceptable to Python and SQL. If this limitation is irrelevant to your problem, and you really cannot rename variable in your code, then at your own risk you can rename ``.x`` to, eg, ``name`` in DSC and use ``@ALIAS: .x = name``.\n",
      "* Names cannot start or end with underscore, in ``_x``. Note that such naming convention is not acceptable to R. If this limitation is irrelevant to your problem, and you really cannot rename variable in your code, then at your own risk you can rename ``_x`` to, eg, ``name`` in DSC and use ``@ALIAS: _x = name``.\n",
      "* ``$`` is not allowed in module / variable names, in ``x$``.\n",
      "* Dot is not allowed for module / variable names, in ``x.y``. Note that dotted names is not acceptable to Python and SQL. If this limitation is irrelevant to your problem, and you really cannot rename variable in your code, then at your own risk you can rename ``x.y`` to, eg, ``name`` in DSC and use ``@ALIAS: x.y = name``.\n",
      "* Cannot find required section ``DSC``!\n",
      "* Dot is not allowed for module / variable names, in ``x.1``. Note that dotted names is not acceptable to Python and SQL. If this limitation is irrelevant to your problem, and you really cannot rename variable in your code, then at your own risk you can rename ``x.1`` to, eg, ``name`` in DSC and use ``@ALIAS: x.1 = name``.\n",
      "* Invalid variable name ``1``\n",
      "* Names cannot start or end with underscore, in ``_``. Note that such naming convention is not acceptable to R. If this limitation is irrelevant to your problem, and you really cannot rename variable in your code, then at your own risk you can rename ``_`` to, eg, ``name`` in DSC and use ``@ALIAS: _ = name``.\n",
      "* Invalid variable name ``?*``\n",
      "* Dot is not allowed for module / variable names, in ``.``. Note that dotted names is not acceptable to Python and SQL. If this limitation is irrelevant to your problem, and you really cannot rename variable in your code, then at your own risk you can rename ``.`` to, eg, ``name`` in DSC and use ``@ALIAS: . = name``.\n"
     ]
    }
   ],
   "source": [
    "%run\n",
    "[12]\n",
    "# F: various bad names\n",
    "text = '''\n",
    "@@simulate: sim.R\n",
    "    x: 1\n",
    "'''\n",
    "res = test_format(ds, text)\n",
    "text = '''\n",
    "simulate: sim.R\n",
    "    $x: 1\n",
    "'''\n",
    "res = test_format(ds, text)\n",
    "text = '''\n",
    "simulate: sim.R\n",
    "    .x: 1\n",
    "DSC: \n",
    "    run: simulate\n",
    "'''\n",
    "res = test_format(ds, text)\n",
    "text = '''\n",
    "simulate: sim.R\n",
    "    _x: 1\n",
    "'''\n",
    "res = test_format(ds, text)\n",
    "text = '''\n",
    "simulate: sim.R\n",
    "    x$: 1\n",
    "'''\n",
    "res = test_format(ds, text)\n",
    "text = '''\n",
    "simulate: sim.R\n",
    "    x.y: 1\n",
    "'''\n",
    "res = test_format(ds, text)\n",
    "text = '''\n",
    "simulate: sim.R\n",
    "    x_y: 1\n",
    "'''\n",
    "res = test_format(ds, text)\n",
    "text = '''\n",
    "simulate: sim.R\n",
    "    x.1: 1\n",
    "'''\n",
    "res = test_format(ds, text)\n",
    "text = '''\n",
    "simulate: sim.R\n",
    "    1: 1\n",
    "'''\n",
    "res = test_format(ds, text)\n",
    "text = '''\n",
    "simulate: sim.R\n",
    "    _: 1\n",
    "'''\n",
    "res = test_format(ds, text)\n",
    "text = '''\n",
    "simulate: sim.R\n",
    "    **: 1\n",
    "'''\n",
    "res = test_format(ds, text)\n",
    "text = '''\n",
    "simulate: sim.R\n",
    "    .: 1\n",
    "'''\n",
    "res = test_format(ds, text)"
   ]
  },
  {
   "cell_type": "markdown",
   "metadata": {},
   "source": [
    "## Module derivation"
   ]
  },
  {
   "cell_type": "code",
   "execution_count": 14,
   "metadata": {
    "kernel": "SoS"
   },
   "outputs": [
    {
     "name": "stdout",
     "output_type": "stream",
     "text": [
      "* Invalid syntax ``simulate:``. Should be in the format of ``module names: module executables``\n"
     ]
    }
   ],
   "source": [
    "%run\n",
    "[13]\n",
    "# F: missing exec\n",
    "text = text0 + '''\n",
    "simulate: \n",
    "    x: R{1:5}\n",
    "    $out: x\n",
    "'''\n",
    "res = test_format(ds, text)"
   ]
  },
  {
   "cell_type": "code",
   "execution_count": 15,
   "metadata": {
    "kernel": "SoS"
   },
   "outputs": [],
   "source": [
    "%run\n",
    "[xiii_1]\n",
    "# P: missing exec in derived\n",
    "text = text0 + '''\n",
    "base: sim.R\n",
    "    x: 2\n",
    "    $out: x\n",
    "simulate(base): \n",
    "    x: R(1:5)\n",
    "'''\n",
    "res = test_format(ds, text)\n",
    "assert res.modules['simulate'].dump()['command'] == 'sim.R'\n",
    "\n",
    "[xiii_2]\n",
    "text = text0 + '''\n",
    "base: sim.R\n",
    "    x: 2\n",
    "    $out: x\n",
    "simulate(base): t.R\n",
    "    x: R(1:5)\n",
    "'''\n",
    "res = test_format(ds, text)\n",
    "assert res.modules['simulate'].dump()['command'] == 't.R'"
   ]
  },
  {
   "cell_type": "code",
   "execution_count": 16,
   "metadata": {
    "kernel": "SoS"
   },
   "outputs": [
    {
     "name": "stdout",
     "output_type": "stream",
     "text": [
      "* Invalid base module name ``normal,t``. Base module has to be single module.\n"
     ]
    }
   ],
   "source": [
    "%run\n",
    "[14]\n",
    "# F: derive from compact\n",
    "text = '''\n",
    "normal, t: rnorm.R, rt.R\n",
    "    n: 1000\n",
    "    @normal:\n",
    "        y: 5\n",
    "        n: 6\n",
    "    $x: x\n",
    "    \n",
    "simulate(normal, t): \n",
    "    mu: 1\n",
    "DSC:\n",
    "    run: test\n",
    "'''\n",
    "res = test_format(ds, text)"
   ]
  },
  {
   "cell_type": "code",
   "execution_count": 17,
   "metadata": {
    "kernel": "SoS"
   },
   "outputs": [],
   "source": [
    "%run\n",
    "[15]\n",
    "# P: derive from one of compact\n",
    "text = text0 + '''\n",
    "normal, t: sim.R, t.R\n",
    "    n: 1000\n",
    "    @normal:\n",
    "        y: 5\n",
    "        n: 6\n",
    "    $x: x\n",
    "    \n",
    "simulate(normal):\n",
    "    mu: 1\n",
    "'''\n",
    "res = test_format(ds, text)\n",
    "assert list(res.modules['simulate'].dump()['input'].items()) == [('n', [6]), ('y', [5]), ('mu', [1])]"
   ]
  },
  {
   "cell_type": "code",
   "execution_count": 18,
   "metadata": {
    "kernel": "SoS"
   },
   "outputs": [
    {
     "name": "stdout",
     "output_type": "stream",
     "text": [
      "* Looped block inheritance: normal(shifted_normal) and shifted_normal(normal)!\n"
     ]
    }
   ],
   "source": [
    "%run\n",
    "[16]\n",
    "# F: looped\n",
    "text = text0 + '''\n",
    "normal, t (shifted_normal): sim.R, t.R\n",
    "    n: 1000\n",
    "    @normal:\n",
    "        y: 5\n",
    "        n: 6\n",
    "    $x: x\n",
    "    \n",
    "shifted_normal(normal):\n",
    "    mu: 1\n",
    "'''\n",
    "res = test_format(ds, text)"
   ]
  },
  {
   "cell_type": "code",
   "execution_count": 19,
   "metadata": {
    "kernel": "SoS"
   },
   "outputs": [
    {
     "name": "stdout",
     "output_type": "stream",
     "text": [
      "* Base block ``base1`` does not exist for simulate(base1)!\n"
     ]
    }
   ],
   "source": [
    "%run\n",
    "[17]\n",
    "# F: non-existing base\n",
    "text = text0 + '''\n",
    "base: sim.R\n",
    "    x: 2\n",
    "    $out: x\n",
    "simulate(base1): \n",
    "    x: R(1:5)\n",
    "'''\n",
    "res = test_format(ds, text)"
   ]
  },
  {
   "cell_type": "markdown",
   "metadata": {},
   "source": [
    "## Grouped parameters"
   ]
  },
  {
   "cell_type": "code",
   "execution_count": 20,
   "metadata": {
    "kernel": "SoS"
   },
   "outputs": [],
   "source": [
    "%run\n",
    "[18]\n",
    "# P: grouped parameters\n",
    "text = text0 + '''\n",
    "simulate: sim.R\n",
    "    (n,p): (1,2), (5,6)\n",
    "    a,b: (3,4)\n",
    "    t: 5\n",
    "    $x: x\n",
    "'''\n",
    "res = test_format(ds, text)"
   ]
  },
  {
   "cell_type": "markdown",
   "metadata": {},
   "source": [
    "## `R()` operator"
   ]
  },
  {
   "cell_type": "code",
   "execution_count": 21,
   "metadata": {
    "kernel": "SoS"
   },
   "outputs": [],
   "source": [
    "%run\n",
    "[19]\n",
    "# P: R operator\n",
    "text1 = text0 + '''\n",
    "simulate: sim.R\n",
    "    (n,p): (1,2), (5,6)\n",
    "    $x: x\n",
    "'''\n",
    "res1 = test_format(ds, text1)\n",
    "text2 = text0 + '''\n",
    "simulate: sim.R\n",
    "    (n,p): R{list(c(1,2), c(5,6))}\n",
    "    $x: x\n",
    "'''\n",
    "res2 = test_format(ds, text1)\n",
    "assert str(res1) == str(res2)"
   ]
  },
  {
   "cell_type": "markdown",
   "metadata": {},
   "source": [
    "## CONF test"
   ]
  },
  {
   "cell_type": "code",
   "execution_count": 22,
   "metadata": {
    "kernel": "SoS"
   },
   "outputs": [],
   "source": [
    "%run\n",
    "[20]\n",
    "text1 = text0 + '''\n",
    "simulate: sim.R\n",
    "    $x: x\n",
    "    @CONF: work_dir = /tmp, exec_path = /tmp\n",
    "'''\n",
    "res = test_format(ds, text1)\n",
    "assert res.modules['simulate'].path == ['/tmp']"
   ]
  },
  {
   "cell_type": "code",
   "execution_count": 23,
   "metadata": {
    "kernel": "SoS"
   },
   "outputs": [],
   "source": [
    "%run\n",
    "[25]\n",
    "text1 = text0 + '''\n",
    "simulate: sim.R\n",
    "    $x: x\n",
    "    @CONF: work_dir = /tmp, exec_path = (/tmp, ~/tmp), lib_path = ./, R_libs = (ashr@stephenslab/ashr (2.2.7+), psych)\n",
    "'''\n",
    "res = test_format(ds, text1)\n",
    "assert res.modules['simulate'].path == ['/tmp', '~/tmp']\n",
    "assert res.modules['simulate'].exe['header'] == 'library(ashr)\\nlibrary(psych)\\n'"
   ]
  },
  {
   "cell_type": "markdown",
   "metadata": {},
   "source": [
    "## Input / output variable test"
   ]
  },
  {
   "cell_type": "code",
   "execution_count": 24,
   "metadata": {
    "kernel": "SoS"
   },
   "outputs": [
    {
     "name": "stdout",
     "output_type": "stream",
     "text": [
      "* Module output ``x`` cannot contain multiple elements ``['x', 7]``\n",
      "* Module input ``x`` cannot contain multiple elements ``['$x', 'y']``\n"
     ]
    }
   ],
   "source": [
    "%run\n",
    "[21]\n",
    "# F: multiple input/output\n",
    "text1 = text0 + '''\n",
    "simulate: sim.R\n",
    "    $x: x, 7\n",
    "'''\n",
    "res = test_format(ds, text1)\n",
    "text1 = text0 + '''\n",
    "simulate: sim.R\n",
    "    x: $x, y\n",
    "    $x: x\n",
    "'''\n",
    "res = test_format(ds, text1)"
   ]
  },
  {
   "cell_type": "markdown",
   "metadata": {},
   "source": [
    "## Duplicates"
   ]
  },
  {
   "cell_type": "code",
   "execution_count": 25,
   "metadata": {
    "kernel": "SoS"
   },
   "outputs": [
    {
     "name": "stdout",
     "output_type": "stream",
     "text": [
      "* Duplicate module in block ``simulate,simulate``.\n",
      "* Duplicate block name ``simulate``.\n",
      "* Duplicate module in block ``t,t``.\n",
      "* Duplicate module definition ``simulate``\n"
     ]
    },
    {
     "name": "stderr",
     "output_type": "stream",
     "text": [
      "\u001b[95mWARNING\u001b[0m: \u001b[95mwhile constructing a mapping\n",
      "  in \"<unicode string>\", line 2, column 5:\n",
      "        $x: x\n",
      "        ^\n",
      "found duplicate key ($x)\n",
      "  in \"<unicode string>\", line 3, column 5:\n",
      "        $x: y\n",
      "        ^\u001b[0m\n"
     ]
    },
    {
     "name": "stdout",
     "output_type": "stream",
     "text": [
      "* ``DSCStringIO.dsc`` has caused ``ConstructorError`` (see above).\n",
      "Please ensure there is no duplicated variable names in modules. If this is related to string with quotes please remove them, or use the 'raw()' syntax.\n"
     ]
    }
   ],
   "source": [
    "%run\n",
    "[22]\n",
    "# F: various duplicates\n",
    "text1 = text0 + '''\n",
    "simulate: sim.R\n",
    "    $x: x\n",
    "\n",
    "simulate, simulate: t.R\n",
    "    $x: 7\n",
    "'''\n",
    "res = test_format(ds, text1)\n",
    "text1 = text0 + '''\n",
    "simulate: sim.R\n",
    "    $x: x\n",
    "\n",
    "simulate: t.R\n",
    "    $x: 7\n",
    "'''\n",
    "res = test_format(ds, text1)\n",
    "text1 = text0 + '''\n",
    "simulate: sim.R\n",
    "    $x: x\n",
    "\n",
    "t,t: t.R\n",
    "    $x: 7\n",
    "'''\n",
    "res = test_format(ds, text1)\n",
    "text1 = text0 + '''\n",
    "simulate: sim.R\n",
    "    $x: x\n",
    "\n",
    "t,simulate: t.R\n",
    "    $x: 7\n",
    "'''\n",
    "res = test_format(ds, text1)\n",
    "text1 = text0 + '''\n",
    "simulate: sim.R\n",
    "    $x: x\n",
    "    $x: y\n",
    "\n",
    "t,simulate: t.R\n",
    "    $x: 7\n",
    "'''\n",
    "res = test_format(ds, text1)"
   ]
  },
  {
   "cell_type": "markdown",
   "metadata": {},
   "source": [
    "## FILTER test"
   ]
  },
  {
   "cell_type": "code",
   "execution_count": 26,
   "metadata": {
    "kernel": "SoS"
   },
   "outputs": [
    {
     "name": "stdout",
     "output_type": "stream",
     "text": [
      "* No parameter combination satisfies @FILTER ``n < 3``!\n"
     ]
    }
   ],
   "source": [
    "%run\n",
    "[23]\n",
    "# F: bad condition\n",
    "text = text0 + '''\n",
    "simulate: sim.R\n",
    "    n: $y\n",
    "    $x: x\n",
    "    @FILTER: n < 3\n",
    "'''\n",
    "res = test_format(ds, text)\n",
    "text = text0 + '''\n",
    "simulate: sim.R\n",
    "    n: 2\n",
    "    p: 5\n",
    "    $x: x\n",
    "    @FILTER: n < 3\n",
    "    @ALIAS: m = n\n",
    "'''\n",
    "res = test_format(ds, text)"
   ]
  },
  {
   "cell_type": "code",
   "execution_count": 27,
   "metadata": {
    "kernel": "SoS"
   },
   "outputs": [],
   "source": [
    "%run\n",
    "[24]\n",
    "# P: filter tests\n",
    "text = text0 + '''\n",
    "simulate, t: sim.R, t.R\n",
    "    n: 100, 200, 300, 400, 500\n",
    "    k: 0, 1\n",
    "    @FILTER:\n",
    "        simulate: (n <= 300 and k = 0) or (n > 300 and k = 1)\n",
    "        t: n = 500\n",
    "    $x: x\n",
    "'''\n",
    "res = test_format(ds, text)\n",
    "assert (res.modules['simulate'].dump()['input_filter']) == '(_n <= 300 and _k == 0) or (_n > 300 and _k == 1)'\n",
    "text = text0 + '''\n",
    "simulate, t: sim.R, t.R\n",
    "    n: 100, 200, 300, 400, 500\n",
    "    k: 0, 1\n",
    "    @FILTER: (n in [100,200,300] and k = 0)\n",
    "    $x: x\n",
    "'''\n",
    "res = test_format(ds, text)\n",
    "assert (res.modules['simulate'].dump()['input_filter']) == '(_n in (100,200,300) and _k == 0)'\n",
    "text = text0 + '''\n",
    "simulate, t: sim.R, t.R\n",
    "    n: 100, 200, 300, 400, 500\n",
    "    k: 0, 1\n",
    "    @FILTER: \n",
    "        *: n in [100,200,300]\n",
    "        t: n = 300\n",
    "    $x: x\n",
    "'''\n",
    "res = test_format(ds, text)\n",
    "assert (res.modules['simulate'].dump()['input_filter']) == '(_n in (100,200,300))'"
   ]
  },
  {
   "cell_type": "code",
   "execution_count": 28,
   "metadata": {
    "kernel": "SoS"
   },
   "outputs": [
    {
     "name": "stdout",
     "output_type": "stream",
     "text": [
      "* Name ``n`` cannot be used for both parameter and output for module ``simulate``\n"
     ]
    }
   ],
   "source": [
    "%run\n",
    "[25]\n",
    "# F: parameter name conflict with output\n",
    "text = text0 + '''\n",
    "simulate: sim.R\n",
    "    n: 100\n",
    "    $n: n\n",
    "'''\n",
    "res = test_format(ds, text)\n",
    "# F: parameter name conflict with output\n",
    "text = text0 + '''\n",
    "simulate: sim.R\n",
    "    n: $n\n",
    "    $n: n\n",
    "'''\n",
    "res = test_format(ds, text)"
   ]
  },
  {
   "cell_type": "code",
   "execution_count": 29,
   "metadata": {
    "kernel": "SoS"
   },
   "outputs": [
    {
     "name": "stdout",
     "output_type": "stream",
     "text": [
      "* Duplicated @ALIAS ``['m']`` in module ``simulate``\n"
     ]
    }
   ],
   "source": [
    "%run\n",
    "[26]\n",
    "# F: parameter name conflict with output\n",
    "text = text0 + '''\n",
    "simulate: sim.R\n",
    "    n: 100\n",
    "    a: 5\n",
    "    @ALIAS: m = n, m = a\n",
    "    $out: n\n",
    "'''\n",
    "res = test_format(ds, text)"
   ]
  }
 ],
 "metadata": {
  "kernelspec": {
   "display_name": "SoS",
   "language": "sos",
   "name": "sos"
  },
  "language_info": {
   "codemirror_mode": "sos",
   "file_extension": ".sos",
   "mimetype": "text/x-sos",
   "name": "sos",
   "nbconvert_exporter": "sos_notebook.converter.SoS_Exporter",
   "pygments_lexer": "sos"
  },
  "sos": {
   "default_kernel": "SoS",
   "kernels": [
    [
     "SoS",
     "sos",
     "",
     ""
    ]
   ],
   "panel": {
    "displayed": true,
    "height": 0,
    "style": "side"
   },
   "version": "0.9.12.9"
  }
 },
 "nbformat": 4,
 "nbformat_minor": 2
}
