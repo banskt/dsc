{
 "cells": [
  {
   "cell_type": "markdown",
   "metadata": {
    "kernel": "SoS"
   },
   "source": [
    "## CONF test"
   ]
  },
  {
   "cell_type": "code",
   "execution_count": 22,
   "metadata": {
    "kernel": "SoS"
   },
   "outputs": [],
   "source": [
    "%run -v0\n",
    "[20]\n",
    "text1 = text0 + '''\n",
    "simulate: R()\n",
    "    $x: x\n",
    "    @CONF: work_dir = /tmp, exec_path = /tmp\n",
    "'''\n",
    "res = test_format(ds, text1)\n",
    "assert res.modules['simulate'].path == ['/tmp']"
   ]
  },
  {
   "cell_type": "code",
   "execution_count": 23,
   "metadata": {
    "kernel": "SoS"
   },
   "outputs": [],
   "source": [
    "%run -v0\n",
    "[25]\n",
    "text1 = text0 + '''\n",
    "simulate: R()\n",
    "    $x: x\n",
    "    @CONF: work_dir = /tmp, exec_path = (/tmp, ~/tmp), lib_path = ./, R_libs = (ashr@stephenslab/ashr (2.2.7+), psych)\n",
    "'''\n",
    "res = test_format(ds, text1)\n",
    "assert res.modules['simulate'].path == ['/tmp', '~/tmp']\n",
    "assert res.modules['simulate'].exe['header'] == 'library(ashr)\\nlibrary(psych)'"
   ]
  },
  {
   "cell_type": "markdown",
   "metadata": {
    "kernel": "SoS"
   },
   "source": [
    "## Input / output variable test"
   ]
  },
  {
   "cell_type": "code",
   "execution_count": 24,
   "metadata": {
    "kernel": "SoS"
   },
   "outputs": [
    {
     "name": "stdout",
     "output_type": "stream",
     "text": [
      "* Module output ``x`` cannot contain multiple elements ``['x', 7]``\n",
      "* Module input ``x`` cannot contain multiple elements ``['$x', 'y']``\n"
     ]
    }
   ],
   "source": [
    "%run -v0\n",
    "[21]\n",
    "# F: multiple input/output\n",
    "text1 = text0 + '''\n",
    "simulate: R()\n",
    "    $x: x, 7\n",
    "'''\n",
    "res = test_format(ds, text1)\n",
    "text1 = text0 + '''\n",
    "simulate: R()\n",
    "    x: $x, y\n",
    "    $x: x\n",
    "'''\n",
    "res = test_format(ds, text1)"
   ]
  },
  {
   "cell_type": "markdown",
   "metadata": {
    "kernel": "SoS"
   },
   "source": [
    "## Duplicates"
   ]
  },
  {
   "cell_type": "code",
   "execution_count": 25,
   "metadata": {
    "kernel": "SoS"
   },
   "outputs": [
    {
     "name": "stdout",
     "output_type": "stream",
     "text": [
      "* Duplicate module in block ``simulate,simulate``.\n"
     ]
    },
    {
     "data": {
      "text/html": [
       "<div class=\"sos_logging sos_warning\">WARNING: Overwriting existing module definition <span class=\"sos_highlight\">simulate</span>...</div>"
      ]
     },
     "metadata": {},
     "output_type": "display_data"
    },
    {
     "name": "stdout",
     "output_type": "stream",
     "text": [
      "* Duplicate module in block ``t,t``.\n",
      "* Duplicate module definition ``simulate``\n",
      "* Duplicate key is not allowed: ``$x``, in DSC configuration:\n",
      "``simulate:\n",
      "    $x: x\n",
      "    $x: y``\n"
     ]
    }
   ],
   "source": [
    "%run -v1\n",
    "[22]\n",
    "# F: various duplicates\n",
    "text1 = text0 + '''\n",
    "simulate: R()\n",
    "    $x: x\n",
    "\n",
    "simulate, simulate: R()\n",
    "    $x: 7\n",
    "'''\n",
    "res = test_format(ds, text1)\n",
    "text1 = text0 + '''\n",
    "simulate: R()\n",
    "    $x: x\n",
    "\n",
    "simulate: R()\n",
    "    $x: 7\n",
    "'''\n",
    "res = test_format(ds, text1)\n",
    "text1 = text0 + '''\n",
    "simulate: R()\n",
    "    $x: x\n",
    "\n",
    "t,t: R()\n",
    "    $x: 7\n",
    "'''\n",
    "res = test_format(ds, text1)\n",
    "text1 = text0 + '''\n",
    "simulate: R()\n",
    "    $x: x\n",
    "\n",
    "t,simulate: R()\n",
    "    $x: 7\n",
    "'''\n",
    "res = test_format(ds, text1)\n",
    "text1 = text0 + '''\n",
    "simulate: R()\n",
    "    $x: x\n",
    "    $x: y\n",
    "\n",
    "t: R()\n",
    "    $x: 7\n",
    "'''\n",
    "res = test_format(ds, text1)"
   ]
  },
  {
   "cell_type": "markdown",
   "metadata": {
    "kernel": "SoS"
   },
   "source": [
    "## FILTER test"
   ]
  },
  {
   "cell_type": "code",
   "execution_count": 26,
   "metadata": {
    "kernel": "SoS"
   },
   "outputs": [
    {
     "name": "stdout",
     "output_type": "stream",
     "text": [
      "* Invalid @FILTER: ``['n < 3']``!\n"
     ]
    }
   ],
   "source": [
    "%run -v0\n",
    "[23]\n",
    "# F: bad condition\n",
    "text = text0 + '''\n",
    "simulate: R()\n",
    "    n: $y\n",
    "    $x: x\n",
    "    @FILTER: n < 3\n",
    "'''\n",
    "res = test_format(ds, text)\n",
    "text = text0 + '''\n",
    "simulate: R()\n",
    "    n: 2\n",
    "    p: 5\n",
    "    $x: x\n",
    "    @FILTER: n < 3\n",
    "    @ALIAS: m = n\n",
    "'''\n",
    "res = test_format(ds, text)"
   ]
  },
  {
   "cell_type": "code",
   "execution_count": 27,
   "metadata": {
    "kernel": "SoS"
   },
   "outputs": [],
   "source": [
    "%run -v0\n",
    "[24]\n",
    "# P: filter tests\n",
    "text = text0 + '''\n",
    "simulate, t: R(), R()\n",
    "    n: 100, 200, 300, 400, 500\n",
    "    k: 0, 1\n",
    "    @FILTER:\n",
    "        simulate: (n <= 300 and k = 0) or (n > 300 and k = 1)\n",
    "        t: n = 500\n",
    "    $x: x\n",
    "'''\n",
    "res = test_format(ds, text)\n",
    "assert (res.modules['simulate'].dump()['input_filter']) == '(_n <= 300 and _k == 0) or (_n > 300 and _k == 1)'\n",
    "text = text0 + '''\n",
    "simulate, t: R(), R()\n",
    "    n: 100, 200, 300, 400, 500\n",
    "    k: 0, 1\n",
    "    @FILTER: (n in [100,200,300] and k = 0)\n",
    "    $x: x\n",
    "'''\n",
    "res = test_format(ds, text)\n",
    "assert (res.modules['simulate'].dump()['input_filter']) == '(_n in (100,200,300) and _k == 0)'\n",
    "text = text0 + '''\n",
    "simulate, t: R(), R()\n",
    "    n: 100, 200, 300, 400, 500\n",
    "    k: 0, 1\n",
    "    @FILTER: \n",
    "        *: n in [100,200,300]\n",
    "        t: n = 300\n",
    "    $x: x\n",
    "'''\n",
    "res = test_format(ds, text)\n",
    "assert (res.modules['simulate'].dump()['input_filter']) == '(_n in (100,200,300))'"
   ]
  },
  {
   "cell_type": "code",
   "execution_count": 28,
   "metadata": {
    "kernel": "SoS"
   },
   "outputs": [
    {
     "name": "stdout",
     "output_type": "stream",
     "text": [
      "* Name ``n`` cannot be used for both parameter and output for module ``simulate``\n"
     ]
    }
   ],
   "source": [
    "%run -v0\n",
    "[26]\n",
    "# F: parameter name conflict with output\n",
    "text = text0 + '''\n",
    "simulate: R()\n",
    "    n: 100\n",
    "    $n: n\n",
    "'''\n",
    "res = test_format(ds, text)\n",
    "# F: parameter name conflict with output\n",
    "text = text0 + '''\n",
    "simulate: R()\n",
    "    n: $n\n",
    "    $n: n\n",
    "'''\n",
    "res = test_format(ds, text)"
   ]
  },
  {
   "cell_type": "code",
   "execution_count": 29,
   "metadata": {
    "kernel": "SoS"
   },
   "outputs": [
    {
     "name": "stdout",
     "output_type": "stream",
     "text": [
      "* Duplicated @ALIAS ``['m']`` in module ``simulate``\n"
     ]
    }
   ],
   "source": [
    "%run -v0\n",
    "[27]\n",
    "# F: parameter name conflict with output\n",
    "text = text0 + '''\n",
    "simulate: R()\n",
    "    n: 100\n",
    "    a: 5\n",
    "    @ALIAS: m = n, m = a\n",
    "    $out: n\n",
    "'''\n",
    "res = test_format(ds, text)"
   ]
  },
  {
   "cell_type": "markdown",
   "metadata": {
    "kernel": "SoS"
   },
   "source": [
    "## File()"
   ]
  },
  {
   "cell_type": "code",
   "execution_count": 30,
   "metadata": {
    "kernel": "SoS"
   },
   "outputs": [
    {
     "name": "stdout",
     "output_type": "stream",
     "text": [
      "* Cannot mix file operator ``file(.txt)`` with other values ``[1]``!\n",
      "* File operator inside tuple ``('file(.txt)', 1)`` is not allowed!\n",
      "* Module output ``out`` cannot contain multiple elements ``['data', 1]``\n",
      "* Module output ``out`` cannot contain multiple elements ``[('data', 1)]``\n"
     ]
    }
   ],
   "source": [
    "%run -v0\n",
    "[28]\n",
    "# P: file() operator\n",
    "text = text0 + '''\n",
    "simulate: R()\n",
    "    data: file(.txt)\n",
    "    $out: n\n",
    "'''\n",
    "res = test_format(ds, text)\n",
    "\n",
    "[29]\n",
    "# F: file() operator misuage\n",
    "text = text0 + '''\n",
    "simulate: R()\n",
    "    data: file(.txt), 1\n",
    "    $out: n\n",
    "'''\n",
    "res = test_format(ds, text)\n",
    "\n",
    "[30]\n",
    "# F: file() operator misuage\n",
    "text = text0 + '''\n",
    "simulate: R()\n",
    "    data: (file(.txt), 1)\n",
    "    $out: n\n",
    "'''\n",
    "res = test_format(ds, text)\n",
    "\n",
    "[31]\n",
    "# F: bad output\n",
    "text = text0 + '''\n",
    "simulate: R()\n",
    "    data: file(.txt)\n",
    "    $out: data, 1\n",
    "'''\n",
    "res = test_format(ds, text)\n",
    "\n",
    "[32]\n",
    "# F: bad output\n",
    "text = text0 + '''\n",
    "simulate: R()\n",
    "    data: file(.txt)\n",
    "    $out: (data, 1)\n",
    "'''\n",
    "res = test_format(ds, text)"
   ]
  },
  {
   "cell_type": "markdown",
   "metadata": {
    "kernel": "SoS"
   },
   "source": [
    "## quotes keywords"
   ]
  },
  {
   "cell_type": "code",
   "execution_count": 31,
   "metadata": {
    "kernel": "SoS"
   },
   "outputs": [],
   "source": [
    "%run -v0\n",
    "[33]\n",
    "text = text0 + '''\n",
    "simulate: R()\n",
    "    K: TRUE, FALSE, NULL\n",
    "    $out: K\n",
    "'''\n",
    "res = test_format(ds, text)\n",
    "assert res.modules['simulate'].dump()['input']['K'] == ['TRUE', 'FALSE', 'NULL']\n",
    "\n",
    "[34]\n",
    "text = text0 + '''\n",
    "simulate: Python()\n",
    "    K: 'TRUE', 'FALSE', 'NULL'\n",
    "    $out: K\n",
    "'''\n",
    "res = test_format(ds, text)\n",
    "assert res.modules['simulate'].dump()['input']['K'] == [\"'TRUE'\", \"'FALSE'\", \"'NULL'\"]"
   ]
  }
 ],
 "metadata": {
  "kernelspec": {
   "display_name": "SoS",
   "language": "sos",
   "name": "sos"
  },
  "language_info": {
   "codemirror_mode": "sos",
   "file_extension": ".sos",
   "mimetype": "text/x-sos",
   "name": "sos",
   "nbconvert_exporter": "sos_notebook.converter.SoS_Exporter",
   "pygments_lexer": "sos"
  },
  "sos": {
   "default_kernel": "SoS",
   "kernels": [
    [
     "SoS",
     "sos",
     "",
     ""
    ]
   ],
   "panel": {
    "displayed": true,
    "height": 0,
    "style": "side"
   },
   "version": "0.17.2"
  }
 },
 "nbformat": 4,
 "nbformat_minor": 2
}
