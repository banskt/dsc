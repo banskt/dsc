{
 "cells": [
  {
   "cell_type": "markdown",
   "metadata": {},
   "source": [
    "# Parser tests"
   ]
  },
  {
   "cell_type": "code",
   "execution_count": 1,
   "metadata": {
    "kernel": "SoS"
   },
   "outputs": [],
   "source": [
    "[global]\n",
    "from dsc.dsc_parser import DSC_Script as ds\n",
    "from dsc.utils import FormatError\n",
    "\n",
    "def test_format(obj, *args):\n",
    "    try:\n",
    "        return obj(*args)\n",
    "    except Exception as e:\n",
    "        assert type(e).__name__ == 'FormatError'\n",
    "        print(e)\n",
    "        return None"
   ]
  },
  {
   "cell_type": "markdown",
   "metadata": {},
   "source": [
    "## Basic syntax"
   ]
  },
  {
   "cell_type": "code",
   "execution_count": 2,
   "metadata": {
    "kernel": "SoS"
   },
   "outputs": [
    {
     "name": "stdout",
     "output_type": "stream",
     "text": [
      "Cannot find required section ``DSC``!\n"
     ]
    }
   ],
   "source": [
    "%run\n",
    "[1]\n",
    "# F: missing output\n",
    "text = '''\n",
    "simulate: sim.R\n",
    "    x: 1\n",
    "    y: 2\n",
    "'''\n",
    "test_format(ds, text)"
   ]
  },
  {
   "cell_type": "code",
   "execution_count": null,
   "metadata": {
    "kernel": "SoS"
   },
   "outputs": [],
   "source": [
    "%run\n",
    "[2]\n",
    "# F: grouped parameters is not allowed\n",
    "text = '''\n",
    "simulate: sim.R\n",
    "    group_1:\n",
    "        x: 1\n",
    "        y: 2\n",
    "DSC:\n",
    "    run: simulate\n",
    "'''\n",
    "test_format(ds, text)"
   ]
  },
  {
   "cell_type": "code",
   "execution_count": 18,
   "metadata": {
    "kernel": "SoS"
   },
   "outputs": [],
   "source": [
    "%run\n",
    "[3]\n",
    "# P: exec decoration\n",
    "text = '''\n",
    "simulate: sim.R\n",
    "    @simulate:\n",
    "        x: 1\n",
    "        y: 2\n",
    "DSC:\n",
    "    run: simulate\n",
    "'''\n",
    "res = test_format(ds, text)\n",
    "assert list(res.modules['simulate'].dump()['input'].items()) == [('x', [1]), ('y', [2])]"
   ]
  },
  {
   "cell_type": "code",
   "execution_count": 2,
   "metadata": {
    "kernel": "SoS"
   },
   "outputs": [
    {
     "name": "stdout",
     "output_type": "stream",
     "text": [
      "Variable grouping ``group_1`` is not allowed\n"
     ]
    }
   ],
   "source": [
    "%run\n",
    "[4]\n",
    "# F: grouped parameters is not allowed in exec decoration\n",
    "text = '''\n",
    "simulate: sim.R\n",
    "    @simulate:\n",
    "        group_1:\n",
    "            x: 1\n",
    "            y: 2\n",
    "DSC:\n",
    "    run: simulate\n",
    "'''\n",
    "res = test_format(ds, text)"
   ]
  },
  {
   "cell_type": "code",
   "execution_count": 1,
   "metadata": {
    "kernel": "SoS"
   },
   "outputs": [
    {
     "name": "stdout",
     "output_type": "stream",
     "text": [
      "Invalid @ALIAS format for module ``simulate`` (has to be formatted `alias = variable`).\n"
     ]
    }
   ],
   "source": [
    "%run\n",
    "[5]\n",
    "# F: alias is not a list\n",
    "text = '''\n",
    "simulate: sim.R\n",
    "    @simulate:\n",
    "        x: 1\n",
    "        y: 2\n",
    "        @ALIAS:\n",
    "            x_1: x\n",
    "DSC:\n",
    "    run: simulate\n",
    "'''\n",
    "res = test_format(ds, text)"
   ]
  },
  {
   "cell_type": "code",
   "execution_count": 4,
   "metadata": {
    "kernel": "SoS"
   },
   "outputs": [],
   "source": [
    "%run\n",
    "[6]\n",
    "# P: alias for simulate module\n",
    "text = '''\n",
    "simulate: sim.R\n",
    "    @simulate:\n",
    "        x: 1\n",
    "        y: 2\n",
    "        @ALIAS: x_1 = x\n",
    "DSC:\n",
    "    run: simulate\n",
    "'''\n",
    "res = test_format(ds, text)\n",
    "assert list(res.modules['simulate'].dump()['input'].items()) == [('y', [2]), ('x_1', [1])]"
   ]
  },
  {
   "cell_type": "code",
   "execution_count": null,
   "metadata": {},
   "outputs": [],
   "source": []
  }
 ],
 "metadata": {
  "kernelspec": {
   "display_name": "SoS",
   "language": "sos",
   "name": "sos"
  },
  "language_info": {
   "codemirror_mode": "sos",
   "file_extension": ".sos",
   "mimetype": "text/x-sos",
   "name": "sos",
   "nbconvert_exporter": "sos_notebook.converter.SoS_Exporter",
   "pygments_lexer": "sos"
  },
  "sos": {
   "default_kernel": "SoS",
   "kernels": [
    [
     "SoS",
     "sos",
     "",
     ""
    ],
    [
     "Python3",
     "python3",
     "Python3",
     "#FFE771"
    ],
    [
     "R",
     "ir",
     "R",
     "#DCDCDA"
    ]
   ],
   "panel": {
    "displayed": false,
    "height": 0,
    "style": "side"
   }
  }
 },
 "nbformat": 4,
 "nbformat_minor": 2
}
