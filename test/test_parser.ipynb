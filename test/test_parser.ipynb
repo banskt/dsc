{
 "cells": [
  {
   "cell_type": "markdown",
   "metadata": {},
   "source": [
    "# Parser tests"
   ]
  },
  {
   "cell_type": "code",
   "execution_count": 1,
   "metadata": {
    "kernel": "SoS"
   },
   "outputs": [],
   "source": [
    "[global]\n",
    "from dsc.dsc_parser import DSC_Script as ds\n",
    "from dsc.utils import FormatError\n",
    "\n",
    "def test_format(obj, *args):\n",
    "    try:\n",
    "        return obj(*args)\n",
    "    except Exception as e:\n",
    "        if type(e).__name__ == 'FormatError':\n",
    "            print(f'* {e}')\n",
    "        else:\n",
    "            raise\n",
    "        return None\n",
    "\n",
    "text = '''\n",
    "DSC:\n",
    "    run: simulate\n",
    "    output: dsc_test\n",
    "'''"
   ]
  },
  {
   "cell_type": "markdown",
   "metadata": {},
   "source": [
    "## Basic syntax"
   ]
  },
  {
   "cell_type": "code",
   "execution_count": 2,
   "metadata": {
    "kernel": "SoS"
   },
   "outputs": [
    {
     "name": "stdout",
     "output_type": "stream",
     "text": [
      "* Block ``simulate`` specifies ``1`` modules, yet ``2`` executables are provided. Please ensure they match.\n"
     ]
    }
   ],
   "source": [
    "%run\n",
    "[1]\n",
    "# F: more exec output\n",
    "text += '''\n",
    "simulate: sim.R, t.R\n",
    "    x: 1\n",
    "    y: 2\n",
    "'''\n",
    "test_format(ds, text)"
   ]
  },
  {
   "cell_type": "code",
   "execution_count": 3,
   "metadata": {
    "kernel": "SoS"
   },
   "outputs": [
    {
     "name": "stdout",
     "output_type": "stream",
     "text": [
      "* Invalid decoration ``group_1``. Decorations must start with ``@`` symbol.\n"
     ]
    }
   ],
   "source": [
    "%run\n",
    "[2]\n",
    "# F: grouped parameters is not allowed\n",
    "text += '''\n",
    "simulate: sim.R\n",
    "    group_1:\n",
    "        x: 1\n",
    "        y: 2\n",
    "'''\n",
    "test_format(ds, text)"
   ]
  },
  {
   "cell_type": "code",
   "execution_count": 4,
   "metadata": {
    "kernel": "SoS"
   },
   "outputs": [],
   "source": [
    "%run\n",
    "[3]\n",
    "# P: exec decoration\n",
    "text += '''\n",
    "simulate: sim.R\n",
    "    @simulate:\n",
    "        x: 1\n",
    "        y: 2\n",
    "'''\n",
    "res = test_format(ds, text)\n",
    "assert list(res.modules['simulate'].dump()['input'].items()) == [('x', [1]), ('y', [2])]"
   ]
  },
  {
   "cell_type": "code",
   "execution_count": 5,
   "metadata": {
    "kernel": "SoS"
   },
   "outputs": [
    {
     "name": "stdout",
     "output_type": "stream",
     "text": [
      "* Invalid decoration ``group_1``. Decorations must start with ``@`` symbol.\n"
     ]
    }
   ],
   "source": [
    "%run\n",
    "[4]\n",
    "# F: grouped parameters is not allowed in exec decoration\n",
    "text += '''\n",
    "simulate: sim.R\n",
    "    @simulate:\n",
    "        group_1:\n",
    "            x: 1\n",
    "            y: 2\n",
    "'''\n",
    "res = test_format(ds, text)"
   ]
  },
  {
   "cell_type": "code",
   "execution_count": 6,
   "metadata": {
    "kernel": "SoS"
   },
   "outputs": [
    {
     "name": "stdout",
     "output_type": "stream",
     "text": [
      "* Cannot find module ``simulate`` in @ALIAS specification ``['x_1']``.\n"
     ]
    }
   ],
   "source": [
    "%run\n",
    "[5]\n",
    "# F: alias is not a list\n",
    "text += '''\n",
    "simulate: sim.R\n",
    "    @simulate:\n",
    "        x: 1\n",
    "        y: 2\n",
    "    @ALIAS:\n",
    "        x_1: x\n",
    "'''\n",
    "res = test_format(ds, text)"
   ]
  },
  {
   "cell_type": "code",
   "execution_count": 7,
   "metadata": {
    "kernel": "SoS"
   },
   "outputs": [],
   "source": [
    "%run\n",
    "[vi_1]\n",
    "# P: alias for specific module, both syntax supported\n",
    "text += '''\n",
    "simulate: sim.R\n",
    "    @simulate:\n",
    "        x: 1\n",
    "        y: 2\n",
    "    @ALIAS: \n",
    "        simulate: x_1 = x\n",
    "'''\n",
    "res = test_format(ds, text)\n",
    "assert list(res.modules['simulate'].dump()['input'].items()) == [('y', [2]), ('x_1', [1])]\n",
    "\n",
    "[vi_2]\n",
    "text += '''\n",
    "simulate: sim.R\n",
    "    @simulate:\n",
    "        x: 1\n",
    "        y: 2\n",
    "        @ALIAS: x_1 = x\n",
    "'''\n",
    "res = test_format(ds, text)\n",
    "assert list(res.modules['simulate'].dump()['input'].items()) == [('y', [2]), ('x_1', [1])]\n",
    "\n",
    "[vi_3]\n",
    "text += '''\n",
    "simulate: sim.R\n",
    "    @simulate:\n",
    "        x: 1\n",
    "        y: 2\n",
    "        @ALIAS: \n",
    "            *: x_1 = x\n",
    "'''\n",
    "res = test_format(ds, text)\n",
    "assert list(res.modules['simulate'].dump()['input'].items()) == [('y', [2]), ('x_1', [1])]"
   ]
  },
  {
   "cell_type": "code",
   "execution_count": 8,
   "metadata": {
    "kernel": "SoS"
   },
   "outputs": [
    {
     "name": "stdout",
     "output_type": "stream",
     "text": [
      "* Undefined decoration ``@test/^test``.\n"
     ]
    }
   ],
   "source": [
    "%run\n",
    "[7]\n",
    "# F: invalid decoration / module\n",
    "text += '''\n",
    "simulate: sim.R\n",
    "    @simulate:\n",
    "        x: 1\n",
    "        y: 2\n",
    "    @test:\n",
    "        x: 3\n",
    "'''\n",
    "res = test_format(ds, text)"
   ]
  },
  {
   "cell_type": "code",
   "execution_count": 9,
   "metadata": {
    "kernel": "SoS"
   },
   "outputs": [
    {
     "name": "stdout",
     "output_type": "stream",
     "text": [
      "* Undefined decoration ``@test/^test``.\n"
     ]
    }
   ],
   "source": [
    "%run\n",
    "[8]\n",
    "# F: invalid decoration / module\n",
    "text += '''\n",
    "simulate: sim.R\n",
    "    @simulate, test:\n",
    "        x: 1\n",
    "        y: 2\n",
    "'''\n",
    "res = test_format(ds, text)"
   ]
  },
  {
   "cell_type": "code",
   "execution_count": 10,
   "metadata": {
    "kernel": "SoS"
   },
   "outputs": [],
   "source": [
    "%run\n",
    "[9]\n",
    "# P: use global variable\n",
    "text = '''\n",
    "simulate: sim.R\n",
    "    x: 1\n",
    "    y: $(x)\n",
    "DSC:\n",
    "    run: simulate\n",
    "    global:\n",
    "        x: 2\n",
    "    output: dsc_test\n",
    "'''\n",
    "res = test_format(ds, text)\n",
    "list(res.modules['simulate'].dump()['input'].items()) == [('x', [2]), ('y', [2])]\n",
    "text = '''\n",
    "simulate: sim.R\n",
    "    x: 1\n",
    "    y: $(x)[3]\n",
    "DSC:\n",
    "    run: simulate\n",
    "    global:\n",
    "        x: 1,2,3,4\n",
    "    output: dsc_test\n",
    "'''\n",
    "res = test_format(ds, text)\n",
    "assert list(res.modules['simulate'].dump()['input'].items()) == [('x', [1,2,3,4]), ('y', [3])]"
   ]
  },
  {
   "cell_type": "code",
   "execution_count": 11,
   "metadata": {
    "kernel": "SoS"
   },
   "outputs": [],
   "source": [
    "%run\n",
    "[10]\n",
    "# P: alias partial list / dict\n",
    "text += '''\n",
    "simulate: sim.R\n",
    "  x: 1\n",
    "  y: 2\n",
    "  @ALIAS: args = List(), arg1 = List(xvar = x, yy = y)\n",
    "'''\n",
    "res = test_format(ds, text)\n",
    "assert list(res.modules['simulate'].plugin.dump()['container_variables'].items()) == [('x', [None, 'xvar']), ('y', [None, 'yy'])]"
   ]
  },
  {
   "cell_type": "code",
   "execution_count": 12,
   "metadata": {
    "kernel": "SoS"
   },
   "outputs": [],
   "source": [
    "%run\n",
    "[11]\n",
    "# P: filter decorator\n",
    "text += '''\n",
    "simulate: sim.R\n",
    "    x: R(1:5)\n",
    "    @FILTER:\n",
    "        *: x < 3\n",
    "'''\n",
    "res = test_format(ds, text)"
   ]
  },
  {
   "cell_type": "markdown",
   "metadata": {},
   "source": [
    "## Bad variable / module names"
   ]
  },
  {
   "cell_type": "code",
   "execution_count": 13,
   "metadata": {
    "kernel": "SoS"
   },
   "outputs": [
    {
     "name": "stdout",
     "output_type": "stream",
     "text": [
      "* Invalid module name ``?@simulate``\n",
      "* Cannot find required section ``DSC``!\n",
      "* Dot is not allowed for module / variable names, in ``.x``. Note that dotted names is not acceptable to Python and SQL. If this limitation is irrelevant to your problem, and you really cannot rename variable in your code, then at your own risk you can rename ``.x`` to, eg, ``name`` in DSC and use ``@ALIAS: .x = name``.\n",
      "* Names cannot start or end with underscore, in ``_x``. Note that such naming convention is not acceptable to R. If this limitation is irrelevant to your problem, and you really cannot rename variable in your code, then at your own risk you can rename ``_x`` to, eg, ``name`` in DSC and use ``@ALIAS: _x = name``.\n",
      "* ``$`` is not allowed in module / variable names, in ``x$``.\n",
      "* Dot is not allowed for module / variable names, in ``x.y``. Note that dotted names is not acceptable to Python and SQL. If this limitation is irrelevant to your problem, and you really cannot rename variable in your code, then at your own risk you can rename ``x.y`` to, eg, ``name`` in DSC and use ``@ALIAS: x.y = name``.\n",
      "* Cannot find required section ``DSC``!\n",
      "* Dot is not allowed for module / variable names, in ``x.1``. Note that dotted names is not acceptable to Python and SQL. If this limitation is irrelevant to your problem, and you really cannot rename variable in your code, then at your own risk you can rename ``x.1`` to, eg, ``name`` in DSC and use ``@ALIAS: x.1 = name``.\n",
      "* Invalid variable name ``1``\n",
      "* Names cannot start or end with underscore, in ``_``. Note that such naming convention is not acceptable to R. If this limitation is irrelevant to your problem, and you really cannot rename variable in your code, then at your own risk you can rename ``_`` to, eg, ``name`` in DSC and use ``@ALIAS: _ = name``.\n",
      "* Invalid variable name ``?*``\n",
      "* Dot is not allowed for module / variable names, in ``.``. Note that dotted names is not acceptable to Python and SQL. If this limitation is irrelevant to your problem, and you really cannot rename variable in your code, then at your own risk you can rename ``.`` to, eg, ``name`` in DSC and use ``@ALIAS: . = name``.\n"
     ]
    }
   ],
   "source": [
    "%run\n",
    "[12]\n",
    "# F: various bad names\n",
    "text = '''\n",
    "@@simulate: sim.R\n",
    "    x: 1\n",
    "'''\n",
    "res = test_format(ds, text)\n",
    "text = '''\n",
    "simulate: sim.R\n",
    "    $x: 1\n",
    "'''\n",
    "res = test_format(ds, text)\n",
    "text = '''\n",
    "simulate: sim.R\n",
    "    .x: 1\n",
    "DSC: \n",
    "    run: simulate\n",
    "    output: test\n",
    "'''\n",
    "res = test_format(ds, text)\n",
    "text = '''\n",
    "simulate: sim.R\n",
    "    _x: 1\n",
    "'''\n",
    "res = test_format(ds, text)\n",
    "text = '''\n",
    "simulate: sim.R\n",
    "    x$: 1\n",
    "'''\n",
    "res = test_format(ds, text)\n",
    "text = '''\n",
    "simulate: sim.R\n",
    "    x.y: 1\n",
    "'''\n",
    "res = test_format(ds, text)\n",
    "text = '''\n",
    "simulate: sim.R\n",
    "    x_y: 1\n",
    "'''\n",
    "res = test_format(ds, text)\n",
    "text = '''\n",
    "simulate: sim.R\n",
    "    x.1: 1\n",
    "'''\n",
    "res = test_format(ds, text)\n",
    "text = '''\n",
    "simulate: sim.R\n",
    "    1: 1\n",
    "'''\n",
    "res = test_format(ds, text)\n",
    "text = '''\n",
    "simulate: sim.R\n",
    "    _: 1\n",
    "'''\n",
    "res = test_format(ds, text)\n",
    "text = '''\n",
    "simulate: sim.R\n",
    "    **: 1\n",
    "'''\n",
    "res = test_format(ds, text)\n",
    "text = '''\n",
    "simulate: sim.R\n",
    "    .: 1\n",
    "'''\n",
    "res = test_format(ds, text)"
   ]
  },
  {
   "cell_type": "markdown",
   "metadata": {},
   "source": [
    "## Module derivation"
   ]
  },
  {
   "cell_type": "code",
   "execution_count": 14,
   "metadata": {
    "kernel": "SoS"
   },
   "outputs": [
    {
     "name": "stdout",
     "output_type": "stream",
     "text": [
      "* Invalid syntax ``simulate:``. Should be in the format of ``module names: module executables``\n"
     ]
    }
   ],
   "source": [
    "%run\n",
    "[13]\n",
    "# F: missing exec\n",
    "text += '''\n",
    "simulate: \n",
    "    x: R(1:5)\n",
    "'''\n",
    "res = test_format(ds, text)"
   ]
  },
  {
   "cell_type": "code",
   "execution_count": 15,
   "metadata": {
    "kernel": "SoS"
   },
   "outputs": [],
   "source": [
    "%run\n",
    "[xiii_1]\n",
    "# P: missing exec in derived\n",
    "text += '''\n",
    "base: sim.R\n",
    "    x: 2\n",
    "simulate(base): \n",
    "    x: R(1:5)\n",
    "'''\n",
    "res = test_format(ds, text)\n",
    "assert res.modules['simulate'].dump()['command'] == 'sim.R'\n",
    "\n",
    "[xiii_2]\n",
    "text += '''\n",
    "base: sim.R\n",
    "    x: 2\n",
    "simulate(base): t.R\n",
    "    x: R(1:5)\n",
    "'''\n",
    "res = test_format(ds, text)\n",
    "assert res.modules['simulate'].dump()['command'] == 't.R'"
   ]
  },
  {
   "cell_type": "code",
   "execution_count": 16,
   "metadata": {
    "kernel": "SoS"
   },
   "outputs": [
    {
     "name": "stdout",
     "output_type": "stream",
     "text": [
      "* Invalid base module name ``normal,t``. Base module has to be single module.\n"
     ]
    }
   ],
   "source": [
    "%run\n",
    "[14]\n",
    "# F: derive from compact\n",
    "text = '''\n",
    "normal, t: rnorm.R, rt.R\n",
    "    n: 1000\n",
    "    @normal:\n",
    "        y: 5\n",
    "        n: 6\n",
    "    $x: x\n",
    "    \n",
    "simulate(normal, t): \n",
    "    mu: 1\n",
    "DSC:\n",
    "    run: test\n",
    "'''\n",
    "res = test_format(ds, text)"
   ]
  },
  {
   "cell_type": "code",
   "execution_count": 17,
   "metadata": {
    "kernel": "SoS"
   },
   "outputs": [],
   "source": [
    "%run\n",
    "[15]\n",
    "# P: derive from one of compact\n",
    "text += '''\n",
    "normal, t: sim.R, t.R\n",
    "    n: 1000\n",
    "    @normal:\n",
    "        y: 5\n",
    "        n: 6\n",
    "    $x: x\n",
    "    \n",
    "simulate(normal):\n",
    "    mu: 1\n",
    "'''\n",
    "res = test_format(ds, text)\n",
    "assert list(res.modules['simulate'].dump()['input'].items()) == [('n', [6]), ('y', [5]), ('mu', [1])]"
   ]
  },
  {
   "cell_type": "code",
   "execution_count": 18,
   "metadata": {
    "kernel": "SoS"
   },
   "outputs": [
    {
     "name": "stdout",
     "output_type": "stream",
     "text": [
      "* Looped block inheritance: normal(shifted_normal) and shifted_normal(normal)!\n"
     ]
    }
   ],
   "source": [
    "%run\n",
    "[16]\n",
    "# F: looped\n",
    "text += '''\n",
    "normal, t (shifted_normal): sim.R, t.R\n",
    "    n: 1000\n",
    "    @normal:\n",
    "        y: 5\n",
    "        n: 6\n",
    "    $x: x\n",
    "    \n",
    "shifted_normal(normal):\n",
    "    mu: 1\n",
    "'''\n",
    "res = test_format(ds, text)"
   ]
  },
  {
   "cell_type": "code",
   "execution_count": 19,
   "metadata": {
    "kernel": "SoS"
   },
   "outputs": [
    {
     "name": "stdout",
     "output_type": "stream",
     "text": [
      "* Base block ``base1`` does not exist for simulate(base1)!\n"
     ]
    }
   ],
   "source": [
    "%run\n",
    "[17]\n",
    "# F: non-existing base\n",
    "text += '''\n",
    "base: sim.R\n",
    "    x: 2\n",
    "simulate(base1): \n",
    "    x: R(1:5)\n",
    "'''\n",
    "res = test_format(ds, text)"
   ]
  },
  {
   "cell_type": "markdown",
   "metadata": {},
   "source": [
    "## Grouped parameters"
   ]
  },
  {
   "cell_type": "code",
   "execution_count": 20,
   "metadata": {
    "kernel": "SoS"
   },
   "outputs": [],
   "source": [
    "%run\n",
    "[18]\n",
    "# P: grouped parameters\n",
    "text += '''\n",
    "simulate: sim.R\n",
    "    (n,p): (1,2), (5,6)\n",
    "    a,b: (3,4)\n",
    "    t: 5\n",
    "'''\n",
    "res = test_format(ds, text)"
   ]
  }
 ],
 "metadata": {
  "kernelspec": {
   "display_name": "SoS",
   "language": "sos",
   "name": "sos"
  },
  "language_info": {
   "codemirror_mode": "sos",
   "file_extension": ".sos",
   "mimetype": "text/x-sos",
   "name": "sos",
   "nbconvert_exporter": "sos_notebook.converter.SoS_Exporter",
   "pygments_lexer": "sos"
  },
  "sos": {
   "default_kernel": "SoS",
   "kernels": [
    [
     "SoS",
     "sos",
     "",
     ""
    ],
    [
     "ir",
     "ir",
     "",
     ""
    ],
    [
     "python3",
     "python3",
     "",
     ""
    ]
   ],
   "panel": {
    "displayed": true,
    "height": 0,
    "style": "side"
   }
  }
 },
 "nbformat": 4,
 "nbformat_minor": 2
}
