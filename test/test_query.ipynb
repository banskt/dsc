{
 "cells": [
  {
   "cell_type": "markdown",
   "metadata": {},
   "source": [
    "# Query tests"
   ]
  },
  {
   "cell_type": "code",
   "execution_count": 1,
   "metadata": {
    "kernel": "SoS"
   },
   "outputs": [],
   "source": [
    "[global]\n",
    "from dsc.query_engine import Query_Processor as qp\n",
    "import pandas as pd\n",
    "\n",
    "def test_syntax(obj, *args):\n",
    "    try:\n",
    "        res = obj(*args)\n",
    "        return res\n",
    "    except Exception as e:\n",
    "        print(e)\n",
    "        assert type(e).__name__ in ['DBError', 'FormatError']\n",
    "        return None\n",
    "\n",
    "def test_outcome(obj, fn, verbose, *args):\n",
    "    res = test_syntax(obj, *args)\n",
    "    if res is None:\n",
    "        return\n",
    "    if verbose:\n",
    "        for query in res.get_queries():\n",
    "            print(query)\n",
    "    if fn.endswith('.xlsx'):\n",
    "        writer = pd.ExcelWriter(fn)\n",
    "        res.output_table.to_excel(writer, 'Sheet1', index = False)\n",
    "        if len(res.output_tables) > 1:\n",
    "            for table in res.output_tables:\n",
    "                res.output_tables[table].to_excel(writer, table, index = False)\n",
    "        writer.save()\n",
    "    else:\n",
    "        # is csv\n",
    "        res.output_table.to_csv(fn, index = False)\n",
    "\n",
    "ash_db = 'data/dsc_result.db'\n",
    "reg_db = 'data/reg_result.db'\n",
    "cause_db = 'data/cause_result.db'"
   ]
  },
  {
   "cell_type": "code",
   "execution_count": 2,
   "metadata": {
    "kernel": "SoS"
   },
   "outputs": [],
   "source": [
    "[syntax]\n",
    "parameter: db = ''\n",
    "parameter: t = ''\n",
    "parameter: c = []\n",
    "parameter: g = []\n",
    "t = t.split()\n",
    "res = test_syntax(qp, db, t, c, g)"
   ]
  },
  {
   "cell_type": "code",
   "execution_count": 3,
   "metadata": {
    "kernel": "SoS"
   },
   "outputs": [],
   "source": [
    "[outcome]\n",
    "parameter: db = ''\n",
    "parameter: t = ''\n",
    "parameter: c = []\n",
    "parameter: g = []\n",
    "parameter: verbose = 0\n",
    "output: \"/tmp/1.csv\"\n",
    "t = t.split()\n",
    "test_outcome(qp, str(_output), verbose, db, t, c, g)"
   ]
  },
  {
   "cell_type": "code",
   "execution_count": 4,
   "metadata": {
    "kernel": "SoS"
   },
   "outputs": [
    {
     "name": "stdout",
     "output_type": "stream",
     "text": [
      "Cannot find module ``shu`` in DSC results ``data/dsc_result.db``.\n"
     ]
    }
   ],
   "source": [
    "%sosrun default:1\n",
    "[1]\n",
    "# F: undefined module or group name\n",
    "sos_run(\"syntax\", db = ash_db,\n",
    "        t = 'simulate.nsamp shrink.mixcompdist shu.mse',\n",
    "        c = ['simulate.nsamp > 20', 'shrink.mixcompdist = \"normal\"'])"
   ]
  },
  {
   "cell_type": "code",
   "execution_count": 5,
   "metadata": {
    "kernel": "SoS"
   },
   "outputs": [
    {
     "name": "stdout",
     "output_type": "stream",
     "text": [
      "Cannot find variable ``mse`` in module ``simulate``\n"
     ]
    }
   ],
   "source": [
    "%sosrun default:2\n",
    "[2]\n",
    "# F: field name is not pipeline variable\n",
    "sos_run(\"syntax\", db = ash_db,\n",
    "        t = 'simulate.nsamp shrink.mixcompdist simulate.mse',\n",
    "        c = ['simulate.nsamp > 20', 'shrink.mixcompdist = \"normal\"'])"
   ]
  },
  {
   "cell_type": "code",
   "execution_count": 6,
   "metadata": {
    "kernel": "SoS"
   },
   "outputs": [
    {
     "name": "stdout",
     "output_type": "stream",
     "text": [
      "touch /tmp/1.csv\n",
      "Overlapping groups ``tmp = ['score_beta', 'score_pi0']`` and ``score = ['score_beta', 'score_pi0']`` not allowed! You should drop the one that causes the conflict, or use, eg, -g \"tmp:\" to erase the other one if it is build-in.\n"
     ]
    }
   ],
   "source": [
    "%sosrun default:3 -s force\n",
    "[3]\n",
    "# F: overlapping groups\n",
    "run('touch /tmp/1.csv')\n",
    "sos_run(\"outcome\", db = ash_db,\n",
    "        t = 'simulate.nsamp shrink.mixcompdist tmp.mse score.mse',\n",
    "        c = ['simulate.nsamp > 20', 'shrink.mixcompdist = \"normal\"'],\n",
    "        g = [\"tmp: score_beta, score_pi0\", \"score: score_beta, score_pi0\"])"
   ]
  },
  {
   "cell_type": "code",
   "execution_count": 7,
   "metadata": {
    "kernel": "SoS"
   },
   "outputs": [],
   "source": [
    "%sosrun default:4\n",
    "[4]\n",
    "# P: use built-in group names\n",
    "sos_run(\"syntax\", db = ash_db,\n",
    "        t = 'simulate.nsamp shrink.mixcompdist score.mse',\n",
    "        c = ['simulate.nsamp > 20', 'shrink.mixcompdist = \"normal\"'])"
   ]
  },
  {
   "cell_type": "code",
   "execution_count": 8,
   "metadata": {
    "kernel": "SoS"
   },
   "outputs": [
    {
     "name": "stdout",
     "output_type": "stream",
     "text": [
      "No results found for targets ``simulate.nsamp, shrink.mixcompdist, score.mse`` under condition ``(simulate.nsamp < 20) AND (shrink.mixcompdist = \"normal\")``\n"
     ]
    }
   ],
   "source": [
    "%sosrun default:5\n",
    "[5]\n",
    "# F: empty table returned\n",
    "sos_run(\"syntax\", db = ash_db,\n",
    "        t = 'simulate.nsamp shrink.mixcompdist score.mse',\n",
    "        c = ['simulate.nsamp < 20', 'shrink.mixcompdist = \"normal\"'],\n",
    "        g = [\"score: score_beta, score_pi0\"])"
   ]
  },
  {
   "cell_type": "code",
   "execution_count": 9,
   "metadata": {
    "kernel": "SoS"
   },
   "outputs": [
    {
     "name": "stdout",
     "output_type": "stream",
     "text": [
      "SELECT simulate.DSC_REPLICATE AS simulate_DSC_FIELD_DSC_REPLICATE, simulate.nsamp AS simulate_DSC_FIELD_nsamp, shrink.mixcompdist AS shrink_DSC_FIELD_mixcompdist, score_beta.__output__ AS score_beta_DSC_VAR_mse FROM score_beta INNER JOIN shrink ON score_beta.__parent__ = shrink.__id__ INNER JOIN simulate ON shrink.__parent__ = simulate.__id__ WHERE ((simulate.nsamp > 20) AND (shrink.mixcompdist == \"normal\"))\n",
      "SELECT simulate.DSC_REPLICATE AS simulate_DSC_FIELD_DSC_REPLICATE, simulate.nsamp AS simulate_DSC_FIELD_nsamp, shrink.mixcompdist AS shrink_DSC_FIELD_mixcompdist, score_pi0.__output__ AS score_pi0_DSC_VAR_mse FROM score_pi0 INNER JOIN shrink ON score_pi0.__parent__ = shrink.__id__ INNER JOIN simulate ON shrink.__parent__ = simulate.__id__ WHERE ((simulate.nsamp > 20) AND (shrink.mixcompdist == \"normal\"))\n"
     ]
    }
   ],
   "source": [
    "%sosrun query_show -s force\n",
    "[query_show]\n",
    "# P: display query.\n",
    "sos_run(\"outcome\", db = ash_db,\n",
    "        t = 'simulate.nsamp shrink.mixcompdist score.mse',\n",
    "        c = ['simulate.nsamp > 20', 'shrink.mixcompdist = \"normal\"'],\n",
    "        verbose = 1)"
   ]
  },
  {
   "cell_type": "code",
   "execution_count": 10,
   "metadata": {
    "kernel": "SoS"
   },
   "outputs": [],
   "source": [
    "%sosrun default:6 -s force\n",
    "[6]\n",
    "# P: Handle empty field input: return the file path\n",
    "sos_run(\"outcome\", db = ash_db,\n",
    "        t = 'simulate shrink score',\n",
    "        c = ['simulate.nsamp > 20', 'shrink.mixcompdist = \"normal\"'])"
   ]
  },
  {
   "cell_type": "code",
   "execution_count": 11,
   "metadata": {
    "kernel": "SoS"
   },
   "outputs": [],
   "source": [
    "%sosrun default:7 -s force\n",
    "[7]\n",
    "# P: handle group merger\n",
    "sos_run(\"outcome\", db = reg_db,\n",
    "        t = 'simulate.scenario analyze score score.error')\n",
    "observed = get_output('(head -n 2 /tmp/1.csv && tail -n +3 /tmp/1.csv | sort) | head').strip().split('\\n')\n",
    "expected = '''\n",
    "DSC,simulate,simulate.scenario,analyze,analyze.output.file,score,score.error:output,score.output.file\n",
    "1,dense,NA,en,en/dense_1_en_1,sq_err,sq_err/dense_1_en_1_sq_err_1,sq_err/dense_1_en_1_sq_err_1\n",
    "1,dense,NA,lasso,lasso/dense_1_lasso_1,sq_err,sq_err/dense_1_lasso_1_sq_err_1,sq_err/dense_1_lasso_1_sq_err_1\n",
    "1,dense,NA,ridge,ridge/dense_1_ridge_1,sq_err,sq_err/dense_1_ridge_1_sq_err_1,sq_err/dense_1_ridge_1_sq_err_1\n",
    "1,en_sim,eg1,en,en/en_sim_1_en_1,sq_err,sq_err/en_sim_1_en_1_sq_err_1,sq_err/en_sim_1_en_1_sq_err_1\n",
    "1,en_sim,eg1,lasso,lasso/en_sim_1_lasso_1,sq_err,sq_err/en_sim_1_lasso_1_sq_err_1,sq_err/en_sim_1_lasso_1_sq_err_1\n",
    "1,en_sim,eg1,ridge,ridge/en_sim_1_ridge_1,sq_err,sq_err/en_sim_1_ridge_1_sq_err_1,sq_err/en_sim_1_ridge_1_sq_err_1\n",
    "1,en_sim,eg2,en,en/en_sim_2_en_1,sq_err,sq_err/en_sim_2_en_1_sq_err_1,sq_err/en_sim_2_en_1_sq_err_1\n",
    "1,en_sim,eg2,lasso,lasso/en_sim_2_lasso_1,sq_err,sq_err/en_sim_2_lasso_1_sq_err_1,sq_err/en_sim_2_lasso_1_sq_err_1\n",
    "1,en_sim,eg2,ridge,ridge/en_sim_2_ridge_1,sq_err,sq_err/en_sim_2_ridge_1_sq_err_1,sq_err/en_sim_2_ridge_1_sq_err_1\n",
    "'''.strip().split('\\n')\n",
    "assert observed == expected"
   ]
  },
  {
   "cell_type": "code",
   "execution_count": 12,
   "metadata": {
    "kernel": "SoS"
   },
   "outputs": [],
   "source": [
    "%sosrun default:8 -s force\n",
    "[8]\n",
    "# P: handle group merger\n",
    "sos_run(\"outcome\", db = cause_db,\n",
    "        t = 'simulate.q cis.ci_lwr cis.ci_upr summ_probs.prob cis')\n",
    "observed = get_output('(head -n 2 /tmp/1.csv && tail -n +3 /tmp/1.csv | sort) | head').strip().split('\\n')\n",
    "expected = '''\n",
    "DSC,simulate.q,cis,cis.ci_lwr:output,cis.ci_upr:output,cis.output.file,summ_probs,summ_probs.prob:output\n",
    "1,0.0,gamma_ci,gamma_ci/simulate_1_cause_grid_adapt_1_gamma_ci_1,gamma_ci/simulate_1_cause_grid_adapt_1_gamma_ci_1,gamma_ci/simulate_1_cause_grid_adapt_1_gamma_ci_1,gamma_lfsr,gamma_lfsr/simulate_1_cause_grid_adapt_1_gamma_lfsr_1\n",
    "1,0.1,gamma_ci,gamma_ci/simulate_2_cause_grid_adapt_1_gamma_ci_1,gamma_ci/simulate_2_cause_grid_adapt_1_gamma_ci_1,gamma_ci/simulate_2_cause_grid_adapt_1_gamma_ci_1,gamma_lfsr,gamma_lfsr/simulate_2_cause_grid_adapt_1_gamma_lfsr_1\n",
    "1,0.2,gamma_ci,gamma_ci/simulate_3_cause_grid_adapt_1_gamma_ci_1,gamma_ci/simulate_3_cause_grid_adapt_1_gamma_ci_1,gamma_ci/simulate_3_cause_grid_adapt_1_gamma_ci_1,gamma_lfsr,gamma_lfsr/simulate_3_cause_grid_adapt_1_gamma_lfsr_1\n",
    "1,0.5,gamma_ci,gamma_ci/simulate_4_cause_grid_adapt_1_gamma_ci_1,gamma_ci/simulate_4_cause_grid_adapt_1_gamma_ci_1,gamma_ci/simulate_4_cause_grid_adapt_1_gamma_ci_1,gamma_lfsr,gamma_lfsr/simulate_4_cause_grid_adapt_1_gamma_lfsr_1\n",
    "1,0.7,gamma_ci,gamma_ci/simulate_5_cause_grid_adapt_1_gamma_ci_1,gamma_ci/simulate_5_cause_grid_adapt_1_gamma_ci_1,gamma_ci/simulate_5_cause_grid_adapt_1_gamma_ci_1,gamma_lfsr,gamma_lfsr/simulate_5_cause_grid_adapt_1_gamma_lfsr_1\n",
    "1,1.0,gamma_ci,gamma_ci/simulate_6_cause_grid_adapt_1_gamma_ci_1,gamma_ci/simulate_6_cause_grid_adapt_1_gamma_ci_1,gamma_ci/simulate_6_cause_grid_adapt_1_gamma_ci_1,gamma_lfsr,gamma_lfsr/simulate_6_cause_grid_adapt_1_gamma_lfsr_1\n",
    "2,0.0,gamma_ci,gamma_ci/simulate_7_cause_grid_adapt_4_gamma_ci_2,gamma_ci/simulate_7_cause_grid_adapt_4_gamma_ci_2,gamma_ci/simulate_7_cause_grid_adapt_4_gamma_ci_2,gamma_lfsr,gamma_lfsr/simulate_7_cause_grid_adapt_4_gamma_lfsr_2\n",
    "2,0.1,gamma_ci,gamma_ci/simulate_8_cause_grid_adapt_4_gamma_ci_2,gamma_ci/simulate_8_cause_grid_adapt_4_gamma_ci_2,gamma_ci/simulate_8_cause_grid_adapt_4_gamma_ci_2,gamma_lfsr,gamma_lfsr/simulate_8_cause_grid_adapt_4_gamma_lfsr_2\n",
    "2,0.2,gamma_ci,gamma_ci/simulate_9_cause_grid_adapt_4_gamma_ci_2,gamma_ci/simulate_9_cause_grid_adapt_4_gamma_ci_2,gamma_ci/simulate_9_cause_grid_adapt_4_gamma_ci_2,gamma_lfsr,gamma_lfsr/simulate_9_cause_grid_adapt_4_gamma_lfsr_2\n",
    "'''.strip().split('\\n')\n",
    "assert observed == expected"
   ]
  }
 ],
 "metadata": {
  "kernelspec": {
   "display_name": "SoS",
   "language": "sos",
   "name": "sos"
  },
  "language_info": {
   "codemirror_mode": "sos",
   "file_extension": ".sos",
   "mimetype": "text/x-sos",
   "name": "sos",
   "nbconvert_exporter": "sos_notebook.converter.SoS_Exporter",
   "pygments_lexer": "sos"
  },
  "sos": {
   "default_kernel": "SoS",
   "kernels": [
    [
     "SoS",
     "sos",
     "",
     ""
    ]
   ],
   "panel": {
    "displayed": true,
    "height": "620px",
    "style": "side"
   },
   "version": "0.9.13.7"
  }
 },
 "nbformat": 4,
 "nbformat_minor": 2
}
