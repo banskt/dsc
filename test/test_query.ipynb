{
 "cells": [
  {
   "cell_type": "markdown",
   "metadata": {},
   "source": [
    "# Query tests"
   ]
  },
  {
   "cell_type": "code",
   "execution_count": 1,
   "metadata": {
    "kernel": "SoS"
   },
   "outputs": [],
   "source": [
    "[global]\n",
    "from dsc.query_engine import Query_Processor as qp\n",
    "\n",
    "def test_syntax(obj, *args):\n",
    "    try:\n",
    "        obj(*args)\n",
    "    except Exception as e:\n",
    "        print(e)\n",
    "        assert type(e).__name__ in ['DBError', 'FormatError']\n",
    "\n",
    "ash_db = '~/GIT/software/dsc2/vignettes/ash/dsc_result/dsc_result.db'"
   ]
  },
  {
   "cell_type": "code",
   "execution_count": 2,
   "metadata": {
    "kernel": "SoS"
   },
   "outputs": [],
   "source": [
    "[tpl]\n",
    "parameter: db = ''\n",
    "parameter: t = ''\n",
    "parameter: c = []\n",
    "parameter: g = []\n",
    "t = t.split()\n",
    "test_syntax(qp, db, t, c, g)"
   ]
  },
  {
   "cell_type": "code",
   "execution_count": 1,
   "metadata": {
    "kernel": "SoS"
   },
   "outputs": [
    {
     "name": "stdout",
     "output_type": "stream",
     "text": [
      "Cannot find module ``shu`` in DSC results ``~/GIT/software/dsc2/vignettes/ash/dsc_result/dsc_result.db``.\n"
     ]
    }
   ],
   "source": [
    "%sosrun default:1\n",
    "[1]\n",
    "# fail: undefined group name\n",
    "sos_run(\"tpl\", db = ash_db,\n",
    "        t = 'simulate.nsamp shrink.mixcompdist shu.mse',\n",
    "        c = ['simulate.nsamp > 20', 'shrink.mixcompdist = \"normal\"'])"
   ]
  },
  {
   "cell_type": "code",
   "execution_count": 1,
   "metadata": {
    "kernel": "SoS"
   },
   "outputs": [
    {
     "name": "stderr",
     "output_type": "stream",
     "text": [
      "\u001b[95mWARNING\u001b[0m: \u001b[95mCannot find parameter \u001b[0m\u001b[32mmse\u001b[0m\u001b[95m in module \u001b[0m\u001b[32msimulate\u001b[0m\u001b[95m. The output filenames from this module is kept instead.\u001b[0m\n"
     ]
    }
   ],
   "source": [
    "%sosrun default:2\n",
    "[2]\n",
    "# pass and warn: field name is not pipeline variable, for intermediate pipelines\n",
    "sos_run(\"tpl\", db = ash_db,\n",
    "        t = 'simulate.nsamp shrink.mixcompdist simulate.mse',\n",
    "        c = ['simulate.nsamp > 20', 'shrink.mixcompdist = \"normal\"'])"
   ]
  },
  {
   "cell_type": "code",
   "execution_count": 5,
   "metadata": {
    "kernel": "SoS"
   },
   "outputs": [],
   "source": [
    "%sosrun default:3\n",
    "[3]\n",
    "# pass: use defined group names\n",
    "sos_run(\"tpl\", db = ash_db,\n",
    "        t = 'simulate.nsamp shrink.mixcompdist tmp.mse',\n",
    "        c = ['simulate.nsamp > 20', 'shrink.mixcompdist = \"normal\"'],\n",
    "        g = [\"tmp: score_beta, score_pi0\"])"
   ]
  },
  {
   "cell_type": "code",
   "execution_count": 6,
   "metadata": {
    "kernel": "SoS"
   },
   "outputs": [],
   "source": [
    "%sosrun default:4\n",
    "[4]\n",
    "# pass: use built-in group names\n",
    "sos_run(\"tpl\", db = ash_db,\n",
    "        t = 'simulate.nsamp shrink.mixcompdist score.mse',\n",
    "        c = ['simulate.nsamp > 20', 'shrink.mixcompdist = \"normal\"'])"
   ]
  },
  {
   "cell_type": "code",
   "execution_count": 1,
   "metadata": {
    "kernel": "SoS"
   },
   "outputs": [
    {
     "name": "stdout",
     "output_type": "stream",
     "text": [
      "No results found for targets ``simulate.nsamp, shrink.mixcompdist, score.mse`` under condition ``(simulate.nsamp < 20) AND (shrink.mixcompdist = \"normal\")``\n"
     ]
    }
   ],
   "source": [
    "%sosrun default:5\n",
    "[5]\n",
    "# fail: empty table returned\n",
    "sos_run(\"tpl\", db = ash_db,\n",
    "        t = 'simulate.nsamp shrink.mixcompdist score.mse',\n",
    "        c = ['simulate.nsamp < 20', 'shrink.mixcompdist = \"normal\"'],\n",
    "        g = [\"score: score_beta, score_pi0\"])"
   ]
  },
  {
   "cell_type": "code",
   "execution_count": null,
   "metadata": {},
   "outputs": [],
   "source": []
  }
 ],
 "metadata": {
  "kernelspec": {
   "display_name": "SoS",
   "language": "sos",
   "name": "sos"
  },
  "language_info": {
   "codemirror_mode": "sos",
   "file_extension": ".sos",
   "mimetype": "text/x-sos",
   "name": "sos",
   "nbconvert_exporter": "sos_notebook.converter.SoS_Exporter",
   "pygments_lexer": "sos"
  },
  "sos": {
   "default_kernel": "SoS",
   "kernels": [
    [
     "SoS",
     "sos",
     "",
     ""
    ],
    [
     "Python3",
     "python3",
     "Python3",
     "#FFE771"
    ],
    [
     "R",
     "ir",
     "R",
     "#DCDCDA"
    ]
   ],
   "panel": {
    "displayed": false,
    "height": 0,
    "style": "side"
   }
  }
 },
 "nbformat": 4,
 "nbformat_minor": 2
}
