{
 "cells": [
  {
   "cell_type": "markdown",
   "metadata": {},
   "source": [
    "# Query tests"
   ]
  },
  {
   "cell_type": "code",
   "execution_count": 1,
   "metadata": {
    "kernel": "SoS"
   },
   "outputs": [],
   "source": [
    "[global]\n",
    "from dsc.query_engine import Query_Processor as qp\n",
    "import pandas as pd\n",
    "\n",
    "def test_syntax(obj, *args):\n",
    "    try:\n",
    "        res = obj(*args)\n",
    "        return res\n",
    "    except Exception as e:\n",
    "        print(e)\n",
    "        assert type(e).__name__ in ['DBError', 'FormatError']\n",
    "        return None\n",
    "\n",
    "def test_outcome(obj, fn, verbose, *args):\n",
    "    res = test_syntax(obj, *args)\n",
    "    if res is None:\n",
    "        return\n",
    "    if verbose:\n",
    "        for query in res.get_queries():\n",
    "            print(query)\n",
    "    writer = pd.ExcelWriter(fn)\n",
    "    res.output_table.to_excel(writer, 'Sheet1', index = False)\n",
    "    if len(res.output_tables) > 1:\n",
    "        for table in res.output_tables:\n",
    "            res.output_tables[table].to_excel(writer, table, index = False)\n",
    "    writer.save()    \n",
    "\n",
    "ash_db = 'data/dsc_result.db'"
   ]
  },
  {
   "cell_type": "code",
   "execution_count": 2,
   "metadata": {
    "kernel": "SoS"
   },
   "outputs": [],
   "source": [
    "[syntax]\n",
    "parameter: db = ''\n",
    "parameter: t = ''\n",
    "parameter: c = []\n",
    "parameter: g = []\n",
    "t = t.split()\n",
    "res = test_syntax(qp, db, t, c, g)"
   ]
  },
  {
   "cell_type": "code",
   "execution_count": 3,
   "metadata": {
    "kernel": "SoS"
   },
   "outputs": [],
   "source": [
    "[outcome]\n",
    "parameter: db = ''\n",
    "parameter: t = ''\n",
    "parameter: c = []\n",
    "parameter: g = []\n",
    "parameter: verbose = 0\n",
    "output: \"/tmp/1.xlsx\"\n",
    "t = t.split()\n",
    "test_outcome(qp, str(_output), verbose, db, t, c, g)"
   ]
  },
  {
   "cell_type": "code",
   "execution_count": 4,
   "metadata": {
    "kernel": "SoS"
   },
   "outputs": [
    {
     "name": "stdout",
     "output_type": "stream",
     "text": [
      "Cannot find module ``shu`` in DSC results ``data/dsc_result.db``.\n"
     ]
    }
   ],
   "source": [
    "%sosrun default:1\n",
    "[1]\n",
    "# F: undefined module or group name\n",
    "sos_run(\"syntax\", db = ash_db,\n",
    "        t = 'simulate.nsamp shrink.mixcompdist shu.mse',\n",
    "        c = ['simulate.nsamp > 20', 'shrink.mixcompdist = \"normal\"'])"
   ]
  },
  {
   "cell_type": "code",
   "execution_count": 5,
   "metadata": {
    "kernel": "SoS"
   },
   "outputs": [
    {
     "name": "stdout",
     "output_type": "stream",
     "text": [
      "Cannot find variable ``mse`` in module ``simulate``\n"
     ]
    }
   ],
   "source": [
    "%sosrun default:2\n",
    "[2]\n",
    "# F: field name is not pipeline variable\n",
    "sos_run(\"syntax\", db = ash_db,\n",
    "        t = 'simulate.nsamp shrink.mixcompdist simulate.mse',\n",
    "        c = ['simulate.nsamp > 20', 'shrink.mixcompdist = \"normal\"'])"
   ]
  },
  {
   "cell_type": "code",
   "execution_count": 6,
   "metadata": {
    "kernel": "SoS"
   },
   "outputs": [],
   "source": [
    "%sosrun default:3 -s force\n",
    "[3]\n",
    "# P: overlapping groups\n",
    "sos_run(\"outcome\", db = ash_db,\n",
    "        t = 'simulate.nsamp shrink.mixcompdist tmp.mse score.mse',\n",
    "        c = ['simulate.nsamp > 20', 'shrink.mixcompdist = \"normal\"'],\n",
    "        g = [\"tmp: score_beta, score_pi0\", \"score: score_beta, score_pi0\"])"
   ]
  },
  {
   "cell_type": "code",
   "execution_count": 7,
   "metadata": {
    "kernel": "SoS"
   },
   "outputs": [],
   "source": [
    "%sosrun default:4\n",
    "[4]\n",
    "# P: use built-in group names\n",
    "sos_run(\"syntax\", db = ash_db,\n",
    "        t = 'simulate.nsamp shrink.mixcompdist score.mse',\n",
    "        c = ['simulate.nsamp > 20', 'shrink.mixcompdist = \"normal\"'])"
   ]
  },
  {
   "cell_type": "code",
   "execution_count": 8,
   "metadata": {
    "kernel": "SoS"
   },
   "outputs": [
    {
     "name": "stdout",
     "output_type": "stream",
     "text": [
      "No results found for targets ``simulate.nsamp, shrink.mixcompdist, score.mse`` under condition ``(simulate.nsamp < 20) AND (shrink.mixcompdist = \"normal\")``\n"
     ]
    }
   ],
   "source": [
    "%sosrun default:5\n",
    "[5]\n",
    "# F: empty table returned\n",
    "sos_run(\"syntax\", db = ash_db,\n",
    "        t = 'simulate.nsamp shrink.mixcompdist score.mse',\n",
    "        c = ['simulate.nsamp < 20', 'shrink.mixcompdist = \"normal\"'],\n",
    "        g = [\"score: score_beta, score_pi0\"])"
   ]
  },
  {
   "cell_type": "code",
   "execution_count": 9,
   "metadata": {
    "kernel": "SoS"
   },
   "outputs": [
    {
     "name": "stdout",
     "output_type": "stream",
     "text": [
      "SELECT simulate.nsamp AS simulate_nsamp, shrink.mixcompdist AS shrink_mixcompdist, score_beta.__output__ AS score_beta___output___mse FROM score_beta INNER JOIN shrink ON score_beta.__parent__ = shrink.__id__ INNER JOIN simulate ON shrink.__parent__ = simulate.__id__ WHERE ((simulate.nsamp > 20) AND (shrink.mixcompdist == \"normal\"))\n",
      "SELECT simulate.nsamp AS simulate_nsamp, shrink.mixcompdist AS shrink_mixcompdist, score_pi0.__output__ AS score_pi0___output___mse FROM score_pi0 INNER JOIN shrink ON score_pi0.__parent__ = shrink.__id__ INNER JOIN simulate ON shrink.__parent__ = simulate.__id__ WHERE ((simulate.nsamp > 20) AND (shrink.mixcompdist == \"normal\"))\n"
     ]
    }
   ],
   "source": [
    "%sosrun query_show -s force\n",
    "[query_show]\n",
    "# P: display query.\n",
    "sos_run(\"outcome\", db = ash_db,\n",
    "        t = 'simulate.nsamp shrink.mixcompdist score.mse',\n",
    "        c = ['simulate.nsamp > 20', 'shrink.mixcompdist = \"normal\"'],\n",
    "        verbose = 1)"
   ]
  },
  {
   "cell_type": "code",
   "execution_count": 10,
   "metadata": {
    "kernel": "SoS"
   },
   "outputs": [],
   "source": [
    "%sosrun default:6 -s force\n",
    "[6]\n",
    "# P: Handle empty field input: return the file path\n",
    "sos_run(\"outcome\", db = ash_db,\n",
    "        t = 'simulate shrink score',\n",
    "        c = ['simulate.nsamp > 20', 'shrink.mixcompdist = \"normal\"'])"
   ]
  }
 ],
 "metadata": {
  "kernelspec": {
   "display_name": "SoS",
   "language": "sos",
   "name": "sos"
  },
  "language_info": {
   "codemirror_mode": "sos",
   "file_extension": ".sos",
   "mimetype": "text/x-sos",
   "name": "sos",
   "nbconvert_exporter": "sos_notebook.converter.SoS_Exporter",
   "pygments_lexer": "sos"
  },
  "sos": {
   "default_kernel": "SoS",
   "kernels": [
    [
     "SoS",
     "sos",
     "",
     ""
    ],
    [
     "Python3",
     "python3",
     "Python3",
     "#FFE771"
    ],
    [
     "R",
     "ir",
     "R",
     "#DCDCDA"
    ]
   ],
   "panel": {
    "displayed": true,
    "height": "620px",
    "style": "side"
   }
  }
 },
 "nbformat": 4,
 "nbformat_minor": 2
}
